{
  "cells": [
    {
      "metadata": {
        "collapsed": true
      },
      "cell_type": "markdown",
      "source": "# IRIS DATASET : "
    },
    {
      "metadata": {},
      "cell_type": "markdown",
      "source": "**Q1)** *Considering the histograms , how do the shapes of the histograms for petal length and petal width differ from those for sepal length and sepal width?*\n\n**ANS :** \n        i)  SepalLength and SepalWidth has peak in mid of the histogram while the other two has its peaks at the edges.\n        \n   ii) PetalLength and PetalWidth has **EDGE PEAK DISTRIBUTION** , while SepalLength has **PLATEAU DISTRIBUTION** and SepalWidth has **NORMAL                       DISTRIBUTION**.\n"
    },
    {
      "metadata": {},
      "cell_type": "markdown",
      "source": "**Q2)** *Now consider just the petal width histogram. Is there a particular value of petal length (which ranges from 1.0 to 6.9) where the distribution of petal lengths (as illustrated by the histogram) could be best segmented into two parts?*\n\n**ANS :** In **PetalLength** Histogram , around length = **2.5 cm** ,the distribution could be segmented into two parts.\nFor **PetalWidth** ,this value is around **0.7 - 0.8 cm**."
    },
    {
      "metadata": {},
      "cell_type": "markdown",
      "source": "**Q3)** *Now consider the boxplots you generated for the Iris dataset. There should be four boxplots, one for each feature. Based upon these boxplots, is there a pair of features that appear to have significantly different medians?*\n\n**ANS :** **SepalLength** and **PetalWidth** has significantly different medians."
    },
    {
      "metadata": {},
      "cell_type": "markdown",
      "source": "**Q4)** *Recall that the degree of overlap between variabilities is an important initial indicator of the likelihood that differences in means or medians are meaningful. Also, based solely upon the box plots, which feature appears to explain the greatest amount of the data?* \n\n**ANS :** **PetalLength** may explain greatest amount of data as it spans a large area and overlaps with other features too for some extent."
    },
    {
      "metadata": {},
      "cell_type": "markdown",
      "source": "# DIGITS DATASET :"
    },
    {
      "metadata": {},
      "cell_type": "markdown",
      "source": "**Q1)** *Considering the boxplots, do you observe any outliers? If so, for what features?*\n\n**ANS:** Yes Outliers is observed for **y1** and **y2**."
    },
    {
      "metadata": {},
      "cell_type": "markdown",
      "source": "**Q2)** *Now consider the corresponding histograms. What sort of distribution do the second and fourth features display?*\n\n**ANS :** **LEFT-SKEWED DISTRIBUTION**"
    },
    {
      "metadata": {},
      "cell_type": "markdown",
      "source": "**Q3)** *With that in mind, explain the outliers, or lack thereof, in terms of what you observe from the histograms.*\n\n**ANS :** The distribution is **Left-Skewed** with mode at the right edge. Since most of the values are at the right edge (shown by high frequency in **HISTOGRAM**) , on applying  **The 1.5 (IQR) Criterion for OUTLIERS** it can be explained that outliers must be present because the 1st and 3rd quartiles will be higher due to clustering of data at right edge. As a result , points below **1st Quartile - 1.5*IQR ** will be suspected **OUTLIERS**."
    },
    {
      "metadata": {
        "trusted": true
      },
      "cell_type": "code",
      "source": "",
      "execution_count": null,
      "outputs": []
    },
    {
      "metadata": {
        "trusted": true
      },
      "cell_type": "code",
      "source": "",
      "execution_count": null,
      "outputs": []
    }
  ],
  "metadata": {
    "kernelspec": {
      "name": "python36",
      "display_name": "Python 3.6",
      "language": "python"
    },
    "language_info": {
      "mimetype": "text/x-python",
      "nbconvert_exporter": "python",
      "name": "python",
      "pygments_lexer": "ipython3",
      "version": "3.6.6",
      "file_extension": ".py",
      "codemirror_mode": {
        "version": 3,
        "name": "ipython"
      }
    }
  },
  "nbformat": 4,
  "nbformat_minor": 2
}