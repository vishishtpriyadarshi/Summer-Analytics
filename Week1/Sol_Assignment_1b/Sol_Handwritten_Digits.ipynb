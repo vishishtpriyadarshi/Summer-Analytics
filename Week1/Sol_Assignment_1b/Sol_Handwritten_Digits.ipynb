{
  "nbformat": 4,
  "nbformat_minor": 0,
  "metadata": {
    "colab": {
      "name": "utf-8''Handwritten_Digits.ipynb",
      "version": "0.3.2",
      "provenance": [],
      "collapsed_sections": []
    },
    "language_info": {
      "mimetype": "text/x-python",
      "nbconvert_exporter": "python",
      "name": "python",
      "pygments_lexer": "ipython3",
      "version": "3.6.6",
      "file_extension": ".py",
      "codemirror_mode": {
        "version": 3,
        "name": "ipython"
      }
    },
    "kernelspec": {
      "name": "python36",
      "display_name": "Python 3.6",
      "language": "python"
    }
  },
  "cells": [
    {
      "cell_type": "code",
      "metadata": {
        "trusted": true,
        "id": "fBj-PM4K8zA0",
        "colab_type": "code",
        "colab": {}
      },
      "source": [
        "import pandas as pd\n",
        "import numpy as np\n",
        "\n",
        "%matplotlib inline"
      ],
      "execution_count": 0,
      "outputs": []
    },
    {
      "cell_type": "code",
      "metadata": {
        "trusted": true,
        "id": "nj-xNCqr8zA5",
        "colab_type": "code",
        "colab": {
          "base_uri": "https://localhost:8080/",
          "height": 195
        },
        "outputId": "289cffbe-4ebd-4b3c-d9d5-3cd9ed144d8b"
      },
      "source": [
        "data = pd.read_csv('pendigits.csv',header = None)\n",
        "data = pd.DataFrame(data.values , columns = ['x1' , 'y1' , 'x2' , 'y2' , 'x3' , 'y3' , 'x4' , 'y4' , 'x5' , 'y5' , 'x6' , 'y6' ,'x7' , 'y7' , 'x8' , 'y8' , 'Digits'])\n",
        "data.head()"
      ],
      "execution_count": 5,
      "outputs": [
        {
          "output_type": "execute_result",
          "data": {
            "text/html": [
              "<div>\n",
              "<style scoped>\n",
              "    .dataframe tbody tr th:only-of-type {\n",
              "        vertical-align: middle;\n",
              "    }\n",
              "\n",
              "    .dataframe tbody tr th {\n",
              "        vertical-align: top;\n",
              "    }\n",
              "\n",
              "    .dataframe thead th {\n",
              "        text-align: right;\n",
              "    }\n",
              "</style>\n",
              "<table border=\"1\" class=\"dataframe\">\n",
              "  <thead>\n",
              "    <tr style=\"text-align: right;\">\n",
              "      <th></th>\n",
              "      <th>x1</th>\n",
              "      <th>y1</th>\n",
              "      <th>x2</th>\n",
              "      <th>y2</th>\n",
              "      <th>x3</th>\n",
              "      <th>y3</th>\n",
              "      <th>x4</th>\n",
              "      <th>y4</th>\n",
              "      <th>x5</th>\n",
              "      <th>y5</th>\n",
              "      <th>x6</th>\n",
              "      <th>y6</th>\n",
              "      <th>x7</th>\n",
              "      <th>y7</th>\n",
              "      <th>x8</th>\n",
              "      <th>y8</th>\n",
              "      <th>Digits</th>\n",
              "    </tr>\n",
              "  </thead>\n",
              "  <tbody>\n",
              "    <tr>\n",
              "      <th>0</th>\n",
              "      <td>47</td>\n",
              "      <td>100</td>\n",
              "      <td>27</td>\n",
              "      <td>81</td>\n",
              "      <td>57</td>\n",
              "      <td>37</td>\n",
              "      <td>26</td>\n",
              "      <td>0</td>\n",
              "      <td>0</td>\n",
              "      <td>23</td>\n",
              "      <td>56</td>\n",
              "      <td>53</td>\n",
              "      <td>100</td>\n",
              "      <td>90</td>\n",
              "      <td>40</td>\n",
              "      <td>98</td>\n",
              "      <td>8</td>\n",
              "    </tr>\n",
              "    <tr>\n",
              "      <th>1</th>\n",
              "      <td>0</td>\n",
              "      <td>89</td>\n",
              "      <td>27</td>\n",
              "      <td>100</td>\n",
              "      <td>42</td>\n",
              "      <td>75</td>\n",
              "      <td>29</td>\n",
              "      <td>45</td>\n",
              "      <td>15</td>\n",
              "      <td>15</td>\n",
              "      <td>37</td>\n",
              "      <td>0</td>\n",
              "      <td>69</td>\n",
              "      <td>2</td>\n",
              "      <td>100</td>\n",
              "      <td>6</td>\n",
              "      <td>2</td>\n",
              "    </tr>\n",
              "    <tr>\n",
              "      <th>2</th>\n",
              "      <td>0</td>\n",
              "      <td>57</td>\n",
              "      <td>31</td>\n",
              "      <td>68</td>\n",
              "      <td>72</td>\n",
              "      <td>90</td>\n",
              "      <td>100</td>\n",
              "      <td>100</td>\n",
              "      <td>76</td>\n",
              "      <td>75</td>\n",
              "      <td>50</td>\n",
              "      <td>51</td>\n",
              "      <td>28</td>\n",
              "      <td>25</td>\n",
              "      <td>16</td>\n",
              "      <td>0</td>\n",
              "      <td>1</td>\n",
              "    </tr>\n",
              "    <tr>\n",
              "      <th>3</th>\n",
              "      <td>0</td>\n",
              "      <td>100</td>\n",
              "      <td>7</td>\n",
              "      <td>92</td>\n",
              "      <td>5</td>\n",
              "      <td>68</td>\n",
              "      <td>19</td>\n",
              "      <td>45</td>\n",
              "      <td>86</td>\n",
              "      <td>34</td>\n",
              "      <td>100</td>\n",
              "      <td>45</td>\n",
              "      <td>74</td>\n",
              "      <td>23</td>\n",
              "      <td>67</td>\n",
              "      <td>0</td>\n",
              "      <td>4</td>\n",
              "    </tr>\n",
              "    <tr>\n",
              "      <th>4</th>\n",
              "      <td>0</td>\n",
              "      <td>67</td>\n",
              "      <td>49</td>\n",
              "      <td>83</td>\n",
              "      <td>100</td>\n",
              "      <td>100</td>\n",
              "      <td>81</td>\n",
              "      <td>80</td>\n",
              "      <td>60</td>\n",
              "      <td>60</td>\n",
              "      <td>40</td>\n",
              "      <td>40</td>\n",
              "      <td>33</td>\n",
              "      <td>20</td>\n",
              "      <td>47</td>\n",
              "      <td>0</td>\n",
              "      <td>1</td>\n",
              "    </tr>\n",
              "  </tbody>\n",
              "</table>\n",
              "</div>"
            ],
            "text/plain": [
              "   x1   y1  x2   y2   x3   y3   x4   y4  ...  y5   x6  y6   x7  y7   x8  y8  Digits\n",
              "0  47  100  27   81   57   37   26    0  ...  23   56  53  100  90   40  98       8\n",
              "1   0   89  27  100   42   75   29   45  ...  15   37   0   69   2  100   6       2\n",
              "2   0   57  31   68   72   90  100  100  ...  75   50  51   28  25   16   0       1\n",
              "3   0  100   7   92    5   68   19   45  ...  34  100  45   74  23   67   0       4\n",
              "4   0   67  49   83  100  100   81   80  ...  60   40  40   33  20   47   0       1\n",
              "\n",
              "[5 rows x 17 columns]"
            ]
          },
          "metadata": {
            "tags": []
          },
          "execution_count": 5
        }
      ]
    },
    {
      "cell_type": "markdown",
      "metadata": {
        "id": "JIhxc7188zA-",
        "colab_type": "text"
      },
      "source": [
        "# Types of Features :\n",
        "\n",
        " 1) **Nominal Features** - Digits\n",
        " \n",
        " 2) **Numeric Features** - x1 , y1 , x2 , y2 , ... , x8 , y8 "
      ]
    },
    {
      "cell_type": "markdown",
      "metadata": {
        "id": "lM4b_lh58zA_",
        "colab_type": "text"
      },
      "source": [
        "# STATISTICS :"
      ]
    },
    {
      "cell_type": "code",
      "metadata": {
        "trusted": true,
        "id": "-8TyfVFe8zBA",
        "colab_type": "code",
        "colab": {}
      },
      "source": [
        "x1 = pd.Series(data['x1'])\n",
        "x2 = pd.Series(data['x2'])\n",
        "x3 = pd.Series(data['x3'])\n",
        "x4 = pd.Series(data['x4'])\n",
        "x5 = pd.Series(data['x5'])\n",
        "x6 = pd.Series(data['x6'])\n",
        "x7 = pd.Series(data['x7'])\n",
        "x8 = pd.Series(data['x8'])\n",
        "\n",
        "y1 = pd.Series(data['y1'])\n",
        "y2 = pd.Series(data['y2'])\n",
        "y3 = pd.Series(data['y3'])\n",
        "y4 = pd.Series(data['y4'])\n",
        "y5 = pd.Series(data['y5'])\n",
        "y6 = pd.Series(data['y6'])\n",
        "y7 = pd.Series(data['y7'])\n",
        "y8 = pd.Series(data['y8'])\n",
        "\n",
        "min_x = []\n",
        "max_x = []\n",
        "mean_x = []\n",
        "range_x = []\n",
        "std_x = []\n",
        "var_x = []\n",
        "ct_x = []\n",
        "q1_x = []\n",
        "q2_x = []\n",
        "q3_x = []\n",
        "\n",
        "min_y = []\n",
        "max_y = []\n",
        "mean_y = []\n",
        "range_y = []\n",
        "std_y = []\n",
        "var_y = []\n",
        "ct_y = []\n",
        "q1_y = []\n",
        "q2_y = []\n",
        "q3_y = []\n",
        "\n",
        "colx = ['x1' , 'x2' , 'x3' , 'x4' , 'x5' , 'x6' , 'x7' , 'x8']\n",
        "coly = ['y1' , 'y2' , 'y3' , 'y4' , 'y5' , 'y6' , 'y7' , 'y8']"
      ],
      "execution_count": 0,
      "outputs": []
    },
    {
      "cell_type": "code",
      "metadata": {
        "trusted": true,
        "id": "oAqoP6nz8zBC",
        "colab_type": "code",
        "colab": {}
      },
      "source": [
        "min_x = data[colx].min()\n",
        "min_y = data[coly].min()"
      ],
      "execution_count": 0,
      "outputs": []
    },
    {
      "cell_type": "code",
      "metadata": {
        "trusted": true,
        "id": "Isi88JbV8zBE",
        "colab_type": "code",
        "colab": {}
      },
      "source": [
        "max_x = data[colx].max()\n",
        "max_y = data[coly].max()"
      ],
      "execution_count": 0,
      "outputs": []
    },
    {
      "cell_type": "code",
      "metadata": {
        "trusted": true,
        "id": "06-TMn4X8zBG",
        "colab_type": "code",
        "colab": {}
      },
      "source": [
        "mean_x = data[colx].mean()\n",
        "mean_y = data[coly].mean()"
      ],
      "execution_count": 0,
      "outputs": []
    },
    {
      "cell_type": "code",
      "metadata": {
        "trusted": true,
        "id": "rYy6QdEm8zBJ",
        "colab_type": "code",
        "colab": {}
      },
      "source": [
        "std_x = data[colx].std()\n",
        "std_y = data[coly].std()"
      ],
      "execution_count": 0,
      "outputs": []
    },
    {
      "cell_type": "code",
      "metadata": {
        "trusted": true,
        "id": "38kPOmTo8zBM",
        "colab_type": "code",
        "colab": {}
      },
      "source": [
        "range_x = max_x - min_x\n",
        "range_y = max_y - min_y"
      ],
      "execution_count": 0,
      "outputs": []
    },
    {
      "cell_type": "code",
      "metadata": {
        "trusted": true,
        "id": "3w4ToTdP8zBQ",
        "colab_type": "code",
        "colab": {}
      },
      "source": [
        "var_x = data[colx].var()\n",
        "var_y = data[coly].var()"
      ],
      "execution_count": 0,
      "outputs": []
    },
    {
      "cell_type": "code",
      "metadata": {
        "trusted": true,
        "id": "dXTZrVnA8zBS",
        "colab_type": "code",
        "colab": {}
      },
      "source": [
        "ct_x = data[colx].count()\n",
        "ct_y = data[coly].count()"
      ],
      "execution_count": 0,
      "outputs": []
    },
    {
      "cell_type": "code",
      "metadata": {
        "trusted": true,
        "id": "INqhM6cS8zBV",
        "colab_type": "code",
        "colab": {}
      },
      "source": [
        "q1_x = data[colx].quantile(0.25)\n",
        "q1_y = data[coly].quantile(0.25)\n",
        "\n",
        "q2_x = data[colx].quantile(0.5)\n",
        "q2_y = data[coly].quantile(0.5)\n",
        "\n",
        "q3_x = data[colx].quantile(0.75)\n",
        "q3_y = data[coly].quantile(0.75)"
      ],
      "execution_count": 0,
      "outputs": []
    },
    {
      "cell_type": "code",
      "metadata": {
        "trusted": true,
        "id": "9hJuIKSJ8zBX",
        "colab_type": "code",
        "colab": {
          "base_uri": "https://localhost:8080/",
          "height": 254
        },
        "outputId": "8c82f240-8d6c-4ef7-aa0f-c48d3dc00889"
      },
      "source": [
        "d = [min_x , max_x , mean_x , range_x , std_x , var_x , ct_x]\n",
        "statx = pd.DataFrame(d, columns = colx)\n",
        "statx.rename(index={0:'Minimum',1:'Maximum',2: 'Mean',3:'Range',4:'Standard Deviation',5:'Variance',6:'Count'}, inplace=True)\n",
        "statx"
      ],
      "execution_count": 31,
      "outputs": [
        {
          "output_type": "execute_result",
          "data": {
            "text/html": [
              "<div>\n",
              "<style scoped>\n",
              "    .dataframe tbody tr th:only-of-type {\n",
              "        vertical-align: middle;\n",
              "    }\n",
              "\n",
              "    .dataframe tbody tr th {\n",
              "        vertical-align: top;\n",
              "    }\n",
              "\n",
              "    .dataframe thead th {\n",
              "        text-align: right;\n",
              "    }\n",
              "</style>\n",
              "<table border=\"1\" class=\"dataframe\">\n",
              "  <thead>\n",
              "    <tr style=\"text-align: right;\">\n",
              "      <th></th>\n",
              "      <th>x1</th>\n",
              "      <th>x2</th>\n",
              "      <th>x3</th>\n",
              "      <th>x4</th>\n",
              "      <th>x5</th>\n",
              "      <th>x6</th>\n",
              "      <th>x7</th>\n",
              "      <th>x8</th>\n",
              "    </tr>\n",
              "  </thead>\n",
              "  <tbody>\n",
              "    <tr>\n",
              "      <th>Minimum</th>\n",
              "      <td>0.000000</td>\n",
              "      <td>0.000000</td>\n",
              "      <td>0.000000</td>\n",
              "      <td>0.000000</td>\n",
              "      <td>0.000000</td>\n",
              "      <td>0.000000</td>\n",
              "      <td>0.000000</td>\n",
              "      <td>0.000000</td>\n",
              "    </tr>\n",
              "    <tr>\n",
              "      <th>Maximum</th>\n",
              "      <td>100.000000</td>\n",
              "      <td>100.000000</td>\n",
              "      <td>100.000000</td>\n",
              "      <td>100.000000</td>\n",
              "      <td>100.000000</td>\n",
              "      <td>100.000000</td>\n",
              "      <td>100.000000</td>\n",
              "      <td>100.000000</td>\n",
              "    </tr>\n",
              "    <tr>\n",
              "      <th>Mean</th>\n",
              "      <td>37.384307</td>\n",
              "      <td>40.005604</td>\n",
              "      <td>50.878303</td>\n",
              "      <td>51.471844</td>\n",
              "      <td>57.129971</td>\n",
              "      <td>61.417401</td>\n",
              "      <td>54.699760</td>\n",
              "      <td>46.813718</td>\n",
              "    </tr>\n",
              "    <tr>\n",
              "      <th>Range</th>\n",
              "      <td>100.000000</td>\n",
              "      <td>100.000000</td>\n",
              "      <td>100.000000</td>\n",
              "      <td>100.000000</td>\n",
              "      <td>100.000000</td>\n",
              "      <td>100.000000</td>\n",
              "      <td>100.000000</td>\n",
              "      <td>100.000000</td>\n",
              "    </tr>\n",
              "    <tr>\n",
              "      <th>Standard Deviation</th>\n",
              "      <td>33.322024</td>\n",
              "      <td>26.256025</td>\n",
              "      <td>34.927201</td>\n",
              "      <td>30.680075</td>\n",
              "      <td>33.680340</td>\n",
              "      <td>37.130762</td>\n",
              "      <td>22.599781</td>\n",
              "      <td>41.531794</td>\n",
              "    </tr>\n",
              "    <tr>\n",
              "      <th>Variance</th>\n",
              "      <td>1110.357293</td>\n",
              "      <td>689.378856</td>\n",
              "      <td>1219.909384</td>\n",
              "      <td>941.266990</td>\n",
              "      <td>1134.365329</td>\n",
              "      <td>1378.693497</td>\n",
              "      <td>510.750095</td>\n",
              "      <td>1724.889891</td>\n",
              "    </tr>\n",
              "    <tr>\n",
              "      <th>Count</th>\n",
              "      <td>7494.000000</td>\n",
              "      <td>7494.000000</td>\n",
              "      <td>7494.000000</td>\n",
              "      <td>7494.000000</td>\n",
              "      <td>7494.000000</td>\n",
              "      <td>7494.000000</td>\n",
              "      <td>7494.000000</td>\n",
              "      <td>7494.000000</td>\n",
              "    </tr>\n",
              "  </tbody>\n",
              "</table>\n",
              "</div>"
            ],
            "text/plain": [
              "                             x1           x2  ...           x7           x8\n",
              "Minimum                0.000000     0.000000  ...     0.000000     0.000000\n",
              "Maximum              100.000000   100.000000  ...   100.000000   100.000000\n",
              "Mean                  37.384307    40.005604  ...    54.699760    46.813718\n",
              "Range                100.000000   100.000000  ...   100.000000   100.000000\n",
              "Standard Deviation    33.322024    26.256025  ...    22.599781    41.531794\n",
              "Variance            1110.357293   689.378856  ...   510.750095  1724.889891\n",
              "Count               7494.000000  7494.000000  ...  7494.000000  7494.000000\n",
              "\n",
              "[7 rows x 8 columns]"
            ]
          },
          "metadata": {
            "tags": []
          },
          "execution_count": 31
        }
      ]
    },
    {
      "cell_type": "code",
      "metadata": {
        "trusted": true,
        "id": "vaEQ9PbE8zBa",
        "colab_type": "code",
        "colab": {
          "base_uri": "https://localhost:8080/",
          "height": 254
        },
        "outputId": "1456b4d2-c5b4-4cef-b2c6-db3a10dd6075"
      },
      "source": [
        "d = [min_y , max_y ,mean_y, range_y , std_y , var_y , ct_y]\n",
        "staty = pd.DataFrame(d, columns = coly)\n",
        "staty.rename(index={0:'Minimum',1:'Maximum',2:'Mean',3:'Range',4:'Standard Deviation',5:'Variance',6:'Count'}, inplace=True)\n",
        "staty"
      ],
      "execution_count": 32,
      "outputs": [
        {
          "output_type": "execute_result",
          "data": {
            "text/html": [
              "<div>\n",
              "<style scoped>\n",
              "    .dataframe tbody tr th:only-of-type {\n",
              "        vertical-align: middle;\n",
              "    }\n",
              "\n",
              "    .dataframe tbody tr th {\n",
              "        vertical-align: top;\n",
              "    }\n",
              "\n",
              "    .dataframe thead th {\n",
              "        text-align: right;\n",
              "    }\n",
              "</style>\n",
              "<table border=\"1\" class=\"dataframe\">\n",
              "  <thead>\n",
              "    <tr style=\"text-align: right;\">\n",
              "      <th></th>\n",
              "      <th>y1</th>\n",
              "      <th>y2</th>\n",
              "      <th>y3</th>\n",
              "      <th>y4</th>\n",
              "      <th>y5</th>\n",
              "      <th>y6</th>\n",
              "      <th>y7</th>\n",
              "      <th>y8</th>\n",
              "    </tr>\n",
              "  </thead>\n",
              "  <tbody>\n",
              "    <tr>\n",
              "      <th>Minimum</th>\n",
              "      <td>0.000000</td>\n",
              "      <td>0.000000</td>\n",
              "      <td>0.000000</td>\n",
              "      <td>0.000000</td>\n",
              "      <td>0.000000</td>\n",
              "      <td>0.000000</td>\n",
              "      <td>0.000000</td>\n",
              "      <td>0.000000</td>\n",
              "    </tr>\n",
              "    <tr>\n",
              "      <th>Maximum</th>\n",
              "      <td>100.000000</td>\n",
              "      <td>100.000000</td>\n",
              "      <td>100.000000</td>\n",
              "      <td>100.000000</td>\n",
              "      <td>100.000000</td>\n",
              "      <td>100.000000</td>\n",
              "      <td>100.000000</td>\n",
              "      <td>100.000000</td>\n",
              "    </tr>\n",
              "    <tr>\n",
              "      <th>Mean</th>\n",
              "      <td>84.679343</td>\n",
              "      <td>82.889512</td>\n",
              "      <td>65.044436</td>\n",
              "      <td>44.599680</td>\n",
              "      <td>34.069122</td>\n",
              "      <td>35.782092</td>\n",
              "      <td>35.800774</td>\n",
              "      <td>28.565386</td>\n",
              "    </tr>\n",
              "    <tr>\n",
              "      <th>Range</th>\n",
              "      <td>100.000000</td>\n",
              "      <td>100.000000</td>\n",
              "      <td>100.000000</td>\n",
              "      <td>100.000000</td>\n",
              "      <td>100.000000</td>\n",
              "      <td>100.000000</td>\n",
              "      <td>100.000000</td>\n",
              "      <td>100.000000</td>\n",
              "    </tr>\n",
              "    <tr>\n",
              "      <th>Standard Deviation</th>\n",
              "      <td>16.848420</td>\n",
              "      <td>19.638582</td>\n",
              "      <td>27.377341</td>\n",
              "      <td>30.659478</td>\n",
              "      <td>27.459989</td>\n",
              "      <td>27.495836</td>\n",
              "      <td>33.223611</td>\n",
              "      <td>35.811094</td>\n",
              "    </tr>\n",
              "    <tr>\n",
              "      <th>Variance</th>\n",
              "      <td>283.869273</td>\n",
              "      <td>385.673898</td>\n",
              "      <td>749.518778</td>\n",
              "      <td>940.003609</td>\n",
              "      <td>754.051007</td>\n",
              "      <td>756.020974</td>\n",
              "      <td>1103.808295</td>\n",
              "      <td>1282.434467</td>\n",
              "    </tr>\n",
              "    <tr>\n",
              "      <th>Count</th>\n",
              "      <td>7494.000000</td>\n",
              "      <td>7494.000000</td>\n",
              "      <td>7494.000000</td>\n",
              "      <td>7494.000000</td>\n",
              "      <td>7494.000000</td>\n",
              "      <td>7494.000000</td>\n",
              "      <td>7494.000000</td>\n",
              "      <td>7494.000000</td>\n",
              "    </tr>\n",
              "  </tbody>\n",
              "</table>\n",
              "</div>"
            ],
            "text/plain": [
              "                             y1           y2  ...           y7           y8\n",
              "Minimum                0.000000     0.000000  ...     0.000000     0.000000\n",
              "Maximum              100.000000   100.000000  ...   100.000000   100.000000\n",
              "Mean                  84.679343    82.889512  ...    35.800774    28.565386\n",
              "Range                100.000000   100.000000  ...   100.000000   100.000000\n",
              "Standard Deviation    16.848420    19.638582  ...    33.223611    35.811094\n",
              "Variance             283.869273   385.673898  ...  1103.808295  1282.434467\n",
              "Count               7494.000000  7494.000000  ...  7494.000000  7494.000000\n",
              "\n",
              "[7 rows x 8 columns]"
            ]
          },
          "metadata": {
            "tags": []
          },
          "execution_count": 32
        }
      ]
    },
    {
      "cell_type": "code",
      "metadata": {
        "trusted": true,
        "id": "rn4CAa9E8zBd",
        "colab_type": "code",
        "colab": {
          "base_uri": "https://localhost:8080/",
          "height": 588
        },
        "outputId": "4554193a-b30a-420e-82b9-c6e35a286cf2"
      },
      "source": [
        "print(\"1st Quartiles for x:\")\n",
        "print(q1_x)\n",
        "print('\\n')\n",
        "print(\"2nd Quartiles for x:\")\n",
        "print(q2_x)\n",
        "print('\\n')\n",
        "print(\"3rd Quartiles for x:\")\n",
        "print(q3_x)"
      ],
      "execution_count": 17,
      "outputs": [
        {
          "output_type": "stream",
          "text": [
            "1st Quartiles for x:\n",
            "x1     5.0\n",
            "x2    20.0\n",
            "x3    17.0\n",
            "x4    28.0\n",
            "x5    30.0\n",
            "x6    25.0\n",
            "x7    41.0\n",
            "x8     0.0\n",
            "Name: 0.25, dtype: float64\n",
            "\n",
            "\n",
            "2nd Quartiles for x:\n",
            "x1    31.0\n",
            "x2    39.0\n",
            "x3    56.0\n",
            "x4    54.0\n",
            "x5    60.0\n",
            "x6    74.0\n",
            "x7    53.0\n",
            "x8    39.0\n",
            "Name: 0.5, dtype: float64\n",
            "\n",
            "\n",
            "3rd Quartiles for x:\n",
            "x1     61.0\n",
            "x2     58.0\n",
            "x3     81.0\n",
            "x4     75.0\n",
            "x5     88.0\n",
            "x6     98.0\n",
            "x7     69.0\n",
            "x8    100.0\n",
            "Name: 0.75, dtype: float64\n"
          ],
          "name": "stdout"
        }
      ]
    },
    {
      "cell_type": "code",
      "metadata": {
        "trusted": true,
        "id": "g7ZVjwQd8zBf",
        "colab_type": "code",
        "colab": {
          "base_uri": "https://localhost:8080/",
          "height": 588
        },
        "outputId": "200c3ed7-3afc-4db4-e2eb-0706b13bf597"
      },
      "source": [
        "print(\"1st Quartiles for y:\")\n",
        "print(q1_y)\n",
        "print('\\n')\n",
        "print(\"2nd Quartiles for y:\")\n",
        "print(q2_y)\n",
        "print('\\n')\n",
        "print(\"3rd Quartiles for y:\")\n",
        "print(q3_y)"
      ],
      "execution_count": 18,
      "outputs": [
        {
          "output_type": "stream",
          "text": [
            "1st Quartiles for y:\n",
            "y1    76.0\n",
            "y2    70.0\n",
            "y3    48.0\n",
            "y4    22.0\n",
            "y5     7.0\n",
            "y6    12.0\n",
            "y7     7.0\n",
            "y8     0.0\n",
            "Name: 0.25, dtype: float64\n",
            "\n",
            "\n",
            "2nd Quartiles for y:\n",
            "y1    89.0\n",
            "y2    89.0\n",
            "y3    71.0\n",
            "y4    42.0\n",
            "y5    33.0\n",
            "y6    32.0\n",
            "y7    28.0\n",
            "y8     8.0\n",
            "Name: 0.5, dtype: float64\n",
            "\n",
            "\n",
            "3rd Quartiles for y:\n",
            "y1    100.0\n",
            "y2    100.0\n",
            "y3     86.0\n",
            "y4     65.0\n",
            "y5     55.0\n",
            "y6     57.0\n",
            "y7     48.0\n",
            "y8     51.0\n",
            "Name: 0.75, dtype: float64\n"
          ],
          "name": "stdout"
        }
      ]
    },
    {
      "cell_type": "markdown",
      "metadata": {
        "id": "NHwa3kll8zBi",
        "colab_type": "text"
      },
      "source": [
        "# DATA VISUALISATION\n",
        "\n",
        "## 1) Histogram :"
      ]
    },
    {
      "cell_type": "code",
      "metadata": {
        "trusted": true,
        "id": "Gy3hIPCl8zBi",
        "colab_type": "code",
        "colab": {
          "base_uri": "https://localhost:8080/",
          "height": 286
        },
        "outputId": "e1210857-691d-4248-aa8a-d348b4dfcb5a"
      },
      "source": [
        "df =  pd.DataFrame(data, columns = colx)\n",
        "df.plot.hist(alpha = 0.5) "
      ],
      "execution_count": 19,
      "outputs": [
        {
          "output_type": "execute_result",
          "data": {
            "text/plain": [
              "<matplotlib.axes._subplots.AxesSubplot at 0x7f7709be5be0>"
            ]
          },
          "metadata": {
            "tags": []
          },
          "execution_count": 19
        },
        {
          "output_type": "display_data",
          "data": {
            "image/png": "[encoded data removed]",
            "text/plain": [
              "<Figure size 432x288 with 1 Axes>"
            ]
          },
          "metadata": {
            "tags": []
          }
        }
      ]
    },
    {
      "cell_type": "code",
      "metadata": {
        "trusted": true,
        "id": "mTAWufaj8zBm",
        "colab_type": "code",
        "colab": {
          "base_uri": "https://localhost:8080/",
          "height": 286
        },
        "outputId": "86650d8a-998f-468a-a141-4aff27fb2584"
      },
      "source": [
        "df2 = pd.DataFrame(data, columns = coly)\n",
        "df2.plot.hist(alpha = 0.5)"
      ],
      "execution_count": 20,
      "outputs": [
        {
          "output_type": "execute_result",
          "data": {
            "text/plain": [
              "<matplotlib.axes._subplots.AxesSubplot at 0x7f7708ac8630>"
            ]
          },
          "metadata": {
            "tags": []
          },
          "execution_count": 20
        },
        {
          "output_type": "display_data",
          "data": {
            "image/png": "[encoded data removed]",
            "text/plain": [
              "<Figure size 432x288 with 1 Axes>"
            ]
          },
          "metadata": {
            "tags": []
          }
        }
      ]
    },
    {
      "cell_type": "markdown",
      "metadata": {
        "id": "K3kWY6Qd8zBo",
        "colab_type": "text"
      },
      "source": [
        "## 2) Boxplot :\n"
      ]
    },
    {
      "cell_type": "code",
      "metadata": {
        "trusted": true,
        "id": "9hl7IlNU8zBp",
        "colab_type": "code",
        "colab": {}
      },
      "source": [
        "color = {'boxes': 'DarkGreen', 'whiskers': 'DarkOrange',\n",
        "   ....:          'medians': 'DarkBlue', 'caps': 'Gray'}"
      ],
      "execution_count": 0,
      "outputs": []
    },
    {
      "cell_type": "code",
      "metadata": {
        "trusted": true,
        "id": "qnzb4oSJ8zBr",
        "colab_type": "code",
        "colab": {
          "base_uri": "https://localhost:8080/",
          "height": 286
        },
        "outputId": "5429e31a-fe2b-4a48-b03f-4609271d1271"
      },
      "source": [
        "df.plot.box(color=color ,grid = True)"
      ],
      "execution_count": 22,
      "outputs": [
        {
          "output_type": "execute_result",
          "data": {
            "text/plain": [
              "<matplotlib.axes._subplots.AxesSubplot at 0x7f7706188eb8>"
            ]
          },
          "metadata": {
            "tags": []
          },
          "execution_count": 22
        },
        {
          "output_type": "display_data",
          "data": {
            "image/png": "[encoded data removed]",
            "text/plain": [
              "<Figure size 432x288 with 1 Axes>"
            ]
          },
          "metadata": {
            "tags": []
          }
        }
      ]
    },
    {
      "cell_type": "code",
      "metadata": {
        "trusted": true,
        "id": "BTw2DZkR8zBt",
        "colab_type": "code",
        "colab": {
          "base_uri": "https://localhost:8080/",
          "height": 286
        },
        "outputId": "ae61f440-cea0-409c-ba4b-aa26ba6f6723"
      },
      "source": [
        "df2.plot.box(color=color ,grid = True)"
      ],
      "execution_count": 23,
      "outputs": [
        {
          "output_type": "execute_result",
          "data": {
            "text/plain": [
              "<matplotlib.axes._subplots.AxesSubplot at 0x7f7706036f28>"
            ]
          },
          "metadata": {
            "tags": []
          },
          "execution_count": 23
        },
        {
          "output_type": "display_data",
          "data": {
            "image/png": "[encoded data removed]",
            "text/plain": [
              "<Figure size 432x288 with 1 Axes>"
            ]
          },
          "metadata": {
            "tags": []
          }
        }
      ]
    },
    {
      "cell_type": "code",
      "metadata": {
        "trusted": true,
        "id": "ZcuNgnOk8zBw",
        "colab_type": "code",
        "colab": {}
      },
      "source": [
        ""
      ],
      "execution_count": 0,
      "outputs": []
    },
    {
      "cell_type": "code",
      "metadata": {
        "trusted": true,
        "id": "mR7PHm4h8zBy",
        "colab_type": "code",
        "colab": {}
      },
      "source": [
        ""
      ],
      "execution_count": 0,
      "outputs": []
    },
    {
      "cell_type": "code",
      "metadata": {
        "trusted": true,
        "id": "q-9qlznn8zB0",
        "colab_type": "code",
        "colab": {}
      },
      "source": [
        ""
      ],
      "execution_count": 0,
      "outputs": []
    },
    {
      "cell_type": "code",
      "metadata": {
        "id": "jK6SWagQ-Rxy",
        "colab_type": "code",
        "colab": {}
      },
      "source": [
        ""
      ],
      "execution_count": 0,
      "outputs": []
    }
  ]
}