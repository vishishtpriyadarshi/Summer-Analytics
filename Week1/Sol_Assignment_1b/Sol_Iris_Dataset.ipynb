{
  "nbformat": 4,
  "nbformat_minor": 0,
  "metadata": {
    "colab": {
      "name": "Sol_Iris_Dataset.ipynb",
      "version": "0.3.2",
      "provenance": []
    },
    "language_info": {
      "mimetype": "text/x-python",
      "nbconvert_exporter": "python",
      "name": "python",
      "pygments_lexer": "ipython3",
      "version": "3.6.6",
      "file_extension": ".py",
      "codemirror_mode": {
        "version": 3,
        "name": "ipython"
      }
    },
    "kernelspec": {
      "name": "python36",
      "display_name": "Python 3.6",
      "language": "python"
    }
  },
  "cells": [
    {
      "cell_type": "code",
      "metadata": {
        "trusted": true,
        "id": "F12bmtBCCp9U",
        "colab_type": "code",
        "colab": {}
      },
      "source": [
        "import pandas as pd\n",
        "import numpy as np\n",
        "\n",
        "%matplotlib inline \n",
        "\n",
        "df = pd.read_csv('iris.csv')"
      ],
      "execution_count": 0,
      "outputs": []
    },
    {
      "cell_type": "code",
      "metadata": {
        "trusted": true,
        "id": "sG19km8gCp9Z",
        "colab_type": "code",
        "colab": {
          "base_uri": "https://localhost:8080/",
          "height": 195
        },
        "outputId": "4d149d57-f61e-4253-eac9-039442f2b659"
      },
      "source": [
        "df.head()"
      ],
      "execution_count": 2,
      "outputs": [
        {
          "output_type": "execute_result",
          "data": {
            "text/html": [
              "<div>\n",
              "<style scoped>\n",
              "    .dataframe tbody tr th:only-of-type {\n",
              "        vertical-align: middle;\n",
              "    }\n",
              "\n",
              "    .dataframe tbody tr th {\n",
              "        vertical-align: top;\n",
              "    }\n",
              "\n",
              "    .dataframe thead th {\n",
              "        text-align: right;\n",
              "    }\n",
              "</style>\n",
              "<table border=\"1\" class=\"dataframe\">\n",
              "  <thead>\n",
              "    <tr style=\"text-align: right;\">\n",
              "      <th></th>\n",
              "      <th>SepalLength</th>\n",
              "      <th>SepalWidth</th>\n",
              "      <th>PetalLength</th>\n",
              "      <th>PetalWidth</th>\n",
              "      <th>Name</th>\n",
              "    </tr>\n",
              "  </thead>\n",
              "  <tbody>\n",
              "    <tr>\n",
              "      <th>0</th>\n",
              "      <td>5.1</td>\n",
              "      <td>3.5</td>\n",
              "      <td>1.4</td>\n",
              "      <td>0.2</td>\n",
              "      <td>Iris-setosa</td>\n",
              "    </tr>\n",
              "    <tr>\n",
              "      <th>1</th>\n",
              "      <td>4.9</td>\n",
              "      <td>3.0</td>\n",
              "      <td>1.4</td>\n",
              "      <td>0.2</td>\n",
              "      <td>Iris-setosa</td>\n",
              "    </tr>\n",
              "    <tr>\n",
              "      <th>2</th>\n",
              "      <td>4.7</td>\n",
              "      <td>3.2</td>\n",
              "      <td>1.3</td>\n",
              "      <td>0.2</td>\n",
              "      <td>Iris-setosa</td>\n",
              "    </tr>\n",
              "    <tr>\n",
              "      <th>3</th>\n",
              "      <td>4.6</td>\n",
              "      <td>3.1</td>\n",
              "      <td>1.5</td>\n",
              "      <td>0.2</td>\n",
              "      <td>Iris-setosa</td>\n",
              "    </tr>\n",
              "    <tr>\n",
              "      <th>4</th>\n",
              "      <td>5.0</td>\n",
              "      <td>3.6</td>\n",
              "      <td>1.4</td>\n",
              "      <td>0.2</td>\n",
              "      <td>Iris-setosa</td>\n",
              "    </tr>\n",
              "  </tbody>\n",
              "</table>\n",
              "</div>"
            ],
            "text/plain": [
              "   SepalLength  SepalWidth  PetalLength  PetalWidth         Name\n",
              "0          5.1         3.5          1.4         0.2  Iris-setosa\n",
              "1          4.9         3.0          1.4         0.2  Iris-setosa\n",
              "2          4.7         3.2          1.3         0.2  Iris-setosa\n",
              "3          4.6         3.1          1.5         0.2  Iris-setosa\n",
              "4          5.0         3.6          1.4         0.2  Iris-setosa"
            ]
          },
          "metadata": {
            "tags": []
          },
          "execution_count": 2
        }
      ]
    },
    {
      "cell_type": "markdown",
      "metadata": {
        "id": "s82a6fYgCp9e",
        "colab_type": "text"
      },
      "source": [
        "# Types of Features:\n",
        "\n",
        "1) **Numerical Features -**   SepalLength , SepalWidth , PetalLength , PetalWidth\n",
        "\n",
        "2) **Nominal Features    -**   Name \n"
      ]
    },
    {
      "cell_type": "markdown",
      "metadata": {
        "trusted": true,
        "id": "743HOlPgCp9f",
        "colab_type": "text"
      },
      "source": [
        "# 1) Statistics for SepalLength :"
      ]
    },
    {
      "cell_type": "code",
      "metadata": {
        "trusted": true,
        "id": "7Sk-mU29Cp9g",
        "colab_type": "code",
        "colab": {
          "base_uri": "https://localhost:8080/",
          "height": 1058
        },
        "outputId": "b8b8479d-4663-4634-94a2-206b05d4c503"
      },
      "source": [
        "sep = pd.Series(df['SepalLength'])\n",
        "sep"
      ],
      "execution_count": 3,
      "outputs": [
        {
          "output_type": "execute_result",
          "data": {
            "text/plain": [
              "0      5.1\n",
              "1      4.9\n",
              "2      4.7\n",
              "3      4.6\n",
              "4      5.0\n",
              "5      5.4\n",
              "6      4.6\n",
              "7      5.0\n",
              "8      4.4\n",
              "9      4.9\n",
              "10     5.4\n",
              "11     4.8\n",
              "12     4.8\n",
              "13     4.3\n",
              "14     5.8\n",
              "15     5.7\n",
              "16     5.4\n",
              "17     5.1\n",
              "18     5.7\n",
              "19     5.1\n",
              "20     5.4\n",
              "21     5.1\n",
              "22     4.6\n",
              "23     5.1\n",
              "24     4.8\n",
              "25     5.0\n",
              "26     5.0\n",
              "27     5.2\n",
              "28     5.2\n",
              "29     4.7\n",
              "      ... \n",
              "120    6.9\n",
              "121    5.6\n",
              "122    7.7\n",
              "123    6.3\n",
              "124    6.7\n",
              "125    7.2\n",
              "126    6.2\n",
              "127    6.1\n",
              "128    6.4\n",
              "129    7.2\n",
              "130    7.4\n",
              "131    7.9\n",
              "132    6.4\n",
              "133    6.3\n",
              "134    6.1\n",
              "135    7.7\n",
              "136    6.3\n",
              "137    6.4\n",
              "138    6.0\n",
              "139    6.9\n",
              "140    6.7\n",
              "141    6.9\n",
              "142    5.8\n",
              "143    6.8\n",
              "144    6.7\n",
              "145    6.7\n",
              "146    6.3\n",
              "147    6.5\n",
              "148    6.2\n",
              "149    5.9\n",
              "Name: SepalLength, Length: 150, dtype: float64"
            ]
          },
          "metadata": {
            "tags": []
          },
          "execution_count": 3
        }
      ]
    },
    {
      "cell_type": "code",
      "metadata": {
        "trusted": true,
        "id": "r3e6dCvtCp9j",
        "colab_type": "code",
        "colab": {
          "base_uri": "https://localhost:8080/",
          "height": 34
        },
        "outputId": "3447ccfb-ff14-4563-8370-e0a8fe27f9fa"
      },
      "source": [
        "sep.max()"
      ],
      "execution_count": 4,
      "outputs": [
        {
          "output_type": "execute_result",
          "data": {
            "text/plain": [
              "7.9"
            ]
          },
          "metadata": {
            "tags": []
          },
          "execution_count": 4
        }
      ]
    },
    {
      "cell_type": "code",
      "metadata": {
        "trusted": true,
        "id": "vLCRkGUKCp9m",
        "colab_type": "code",
        "colab": {
          "base_uri": "https://localhost:8080/",
          "height": 34
        },
        "outputId": "f69de2c8-52b3-4589-d782-11010921e375"
      },
      "source": [
        "sep.min()"
      ],
      "execution_count": 5,
      "outputs": [
        {
          "output_type": "execute_result",
          "data": {
            "text/plain": [
              "4.3"
            ]
          },
          "metadata": {
            "tags": []
          },
          "execution_count": 5
        }
      ]
    },
    {
      "cell_type": "code",
      "metadata": {
        "trusted": true,
        "id": "B_icIvAUCp9p",
        "colab_type": "code",
        "colab": {
          "base_uri": "https://localhost:8080/",
          "height": 34
        },
        "outputId": "2c26d28d-9255-42f7-ef9f-a068298887a7"
      },
      "source": [
        "sep.mean()"
      ],
      "execution_count": 6,
      "outputs": [
        {
          "output_type": "execute_result",
          "data": {
            "text/plain": [
              "5.843333333333335"
            ]
          },
          "metadata": {
            "tags": []
          },
          "execution_count": 6
        }
      ]
    },
    {
      "cell_type": "code",
      "metadata": {
        "trusted": true,
        "id": "mUWbZl-GCp9s",
        "colab_type": "code",
        "colab": {
          "base_uri": "https://localhost:8080/",
          "height": 34
        },
        "outputId": "34d63ffa-b5f1-4460-812d-c6cacd886714"
      },
      "source": [
        "range = sep.max() - sep.min()\n",
        "range"
      ],
      "execution_count": 7,
      "outputs": [
        {
          "output_type": "execute_result",
          "data": {
            "text/plain": [
              "3.6000000000000005"
            ]
          },
          "metadata": {
            "tags": []
          },
          "execution_count": 7
        }
      ]
    },
    {
      "cell_type": "code",
      "metadata": {
        "trusted": true,
        "id": "4k3VMqMcCp9v",
        "colab_type": "code",
        "colab": {
          "base_uri": "https://localhost:8080/",
          "height": 34
        },
        "outputId": "b45f4e36-661f-4a7b-9a5d-83b63107a8c9"
      },
      "source": [
        "sep.var()"
      ],
      "execution_count": 8,
      "outputs": [
        {
          "output_type": "execute_result",
          "data": {
            "text/plain": [
              "0.6856935123042505"
            ]
          },
          "metadata": {
            "tags": []
          },
          "execution_count": 8
        }
      ]
    },
    {
      "cell_type": "code",
      "metadata": {
        "trusted": true,
        "id": "vqN7gCj2Cp9y",
        "colab_type": "code",
        "colab": {
          "base_uri": "https://localhost:8080/",
          "height": 34
        },
        "outputId": "9905a686-0faf-4e26-dfa0-8db35f92ebee"
      },
      "source": [
        "sep.std()"
      ],
      "execution_count": 9,
      "outputs": [
        {
          "output_type": "execute_result",
          "data": {
            "text/plain": [
              "0.8280661279778629"
            ]
          },
          "metadata": {
            "tags": []
          },
          "execution_count": 9
        }
      ]
    },
    {
      "cell_type": "code",
      "metadata": {
        "trusted": true,
        "id": "jeSjWu_YCp91",
        "colab_type": "code",
        "colab": {
          "base_uri": "https://localhost:8080/",
          "height": 34
        },
        "outputId": "3a1c511f-1a82-46aa-e667-e66c344ec898"
      },
      "source": [
        "sep.count()"
      ],
      "execution_count": 10,
      "outputs": [
        {
          "output_type": "execute_result",
          "data": {
            "text/plain": [
              "150"
            ]
          },
          "metadata": {
            "tags": []
          },
          "execution_count": 10
        }
      ]
    },
    {
      "cell_type": "code",
      "metadata": {
        "trusted": true,
        "id": "4Y7s_DkkCp95",
        "colab_type": "code",
        "colab": {
          "base_uri": "https://localhost:8080/",
          "height": 84
        },
        "outputId": "c27eaf9d-077d-4dac-9a6e-33c2254dda05"
      },
      "source": [
        "sep.quantile([0.25,0.5,0.75])"
      ],
      "execution_count": 11,
      "outputs": [
        {
          "output_type": "execute_result",
          "data": {
            "text/plain": [
              "0.25    5.1\n",
              "0.50    5.8\n",
              "0.75    6.4\n",
              "Name: SepalLength, dtype: float64"
            ]
          },
          "metadata": {
            "tags": []
          },
          "execution_count": 11
        }
      ]
    },
    {
      "cell_type": "code",
      "metadata": {
        "trusted": true,
        "id": "QiRQcea3Cp97",
        "colab_type": "code",
        "colab": {}
      },
      "source": [
        ""
      ],
      "execution_count": 0,
      "outputs": []
    },
    {
      "cell_type": "markdown",
      "metadata": {
        "id": "XyJRcuRACp9-",
        "colab_type": "text"
      },
      "source": [
        "# 2) Statistics for SepalWidth:"
      ]
    },
    {
      "cell_type": "code",
      "metadata": {
        "trusted": true,
        "id": "YClTs9xQCp9-",
        "colab_type": "code",
        "colab": {
          "base_uri": "https://localhost:8080/",
          "height": 1058
        },
        "outputId": "744feb5e-a2e3-4336-e86f-1c3e41a4bc63"
      },
      "source": [
        "sep = pd.Series(df['SepalWidth'])\n",
        "sep"
      ],
      "execution_count": 12,
      "outputs": [
        {
          "output_type": "execute_result",
          "data": {
            "text/plain": [
              "0      3.5\n",
              "1      3.0\n",
              "2      3.2\n",
              "3      3.1\n",
              "4      3.6\n",
              "5      3.9\n",
              "6      3.4\n",
              "7      3.4\n",
              "8      2.9\n",
              "9      3.1\n",
              "10     3.7\n",
              "11     3.4\n",
              "12     3.0\n",
              "13     3.0\n",
              "14     4.0\n",
              "15     4.4\n",
              "16     3.9\n",
              "17     3.5\n",
              "18     3.8\n",
              "19     3.8\n",
              "20     3.4\n",
              "21     3.7\n",
              "22     3.6\n",
              "23     3.3\n",
              "24     3.4\n",
              "25     3.0\n",
              "26     3.4\n",
              "27     3.5\n",
              "28     3.4\n",
              "29     3.2\n",
              "      ... \n",
              "120    3.2\n",
              "121    2.8\n",
              "122    2.8\n",
              "123    2.7\n",
              "124    3.3\n",
              "125    3.2\n",
              "126    2.8\n",
              "127    3.0\n",
              "128    2.8\n",
              "129    3.0\n",
              "130    2.8\n",
              "131    3.8\n",
              "132    2.8\n",
              "133    2.8\n",
              "134    2.6\n",
              "135    3.0\n",
              "136    3.4\n",
              "137    3.1\n",
              "138    3.0\n",
              "139    3.1\n",
              "140    3.1\n",
              "141    3.1\n",
              "142    2.7\n",
              "143    3.2\n",
              "144    3.3\n",
              "145    3.0\n",
              "146    2.5\n",
              "147    3.0\n",
              "148    3.4\n",
              "149    3.0\n",
              "Name: SepalWidth, Length: 150, dtype: float64"
            ]
          },
          "metadata": {
            "tags": []
          },
          "execution_count": 12
        }
      ]
    },
    {
      "cell_type": "code",
      "metadata": {
        "trusted": true,
        "id": "FeY1qpcoCp-C",
        "colab_type": "code",
        "colab": {
          "base_uri": "https://localhost:8080/",
          "height": 34
        },
        "outputId": "d0ac6ff0-bccf-4473-d926-56f0f756f16d"
      },
      "source": [
        "sep.max()"
      ],
      "execution_count": 13,
      "outputs": [
        {
          "output_type": "execute_result",
          "data": {
            "text/plain": [
              "4.4"
            ]
          },
          "metadata": {
            "tags": []
          },
          "execution_count": 13
        }
      ]
    },
    {
      "cell_type": "code",
      "metadata": {
        "trusted": true,
        "id": "iY8YbQraCp-F",
        "colab_type": "code",
        "colab": {
          "base_uri": "https://localhost:8080/",
          "height": 34
        },
        "outputId": "8054c861-727a-4fe5-b264-1722290e65e2"
      },
      "source": [
        "sep.min()"
      ],
      "execution_count": 14,
      "outputs": [
        {
          "output_type": "execute_result",
          "data": {
            "text/plain": [
              "2.0"
            ]
          },
          "metadata": {
            "tags": []
          },
          "execution_count": 14
        }
      ]
    },
    {
      "cell_type": "code",
      "metadata": {
        "trusted": true,
        "id": "oO42tzg7Cp-I",
        "colab_type": "code",
        "colab": {
          "base_uri": "https://localhost:8080/",
          "height": 34
        },
        "outputId": "c7f647f8-5251-40ca-8737-e2f573165c55"
      },
      "source": [
        "sep.mean()"
      ],
      "execution_count": 15,
      "outputs": [
        {
          "output_type": "execute_result",
          "data": {
            "text/plain": [
              "3.0540000000000007"
            ]
          },
          "metadata": {
            "tags": []
          },
          "execution_count": 15
        }
      ]
    },
    {
      "cell_type": "code",
      "metadata": {
        "trusted": true,
        "id": "LnkXiYqXCp-L",
        "colab_type": "code",
        "colab": {
          "base_uri": "https://localhost:8080/",
          "height": 34
        },
        "outputId": "49146fe0-0fa3-4336-8570-58fc5f31acfc"
      },
      "source": [
        "sep.max() - sep.min()"
      ],
      "execution_count": 16,
      "outputs": [
        {
          "output_type": "execute_result",
          "data": {
            "text/plain": [
              "2.4000000000000004"
            ]
          },
          "metadata": {
            "tags": []
          },
          "execution_count": 16
        }
      ]
    },
    {
      "cell_type": "code",
      "metadata": {
        "trusted": true,
        "id": "MrIdwtFhCp-O",
        "colab_type": "code",
        "colab": {
          "base_uri": "https://localhost:8080/",
          "height": 34
        },
        "outputId": "84758ad7-1c13-4754-c797-46b71c08e043"
      },
      "source": [
        "sep.std()"
      ],
      "execution_count": 17,
      "outputs": [
        {
          "output_type": "execute_result",
          "data": {
            "text/plain": [
              "0.4335943113621737"
            ]
          },
          "metadata": {
            "tags": []
          },
          "execution_count": 17
        }
      ]
    },
    {
      "cell_type": "code",
      "metadata": {
        "trusted": true,
        "id": "jNy6eHF4Cp-R",
        "colab_type": "code",
        "colab": {
          "base_uri": "https://localhost:8080/",
          "height": 34
        },
        "outputId": "1da1ebb3-123e-4d0f-95cc-5cb98c255e60"
      },
      "source": [
        "sep.var()"
      ],
      "execution_count": 18,
      "outputs": [
        {
          "output_type": "execute_result",
          "data": {
            "text/plain": [
              "0.18800402684563763"
            ]
          },
          "metadata": {
            "tags": []
          },
          "execution_count": 18
        }
      ]
    },
    {
      "cell_type": "code",
      "metadata": {
        "trusted": true,
        "id": "KLpM1cl-Cp-T",
        "colab_type": "code",
        "colab": {
          "base_uri": "https://localhost:8080/",
          "height": 34
        },
        "outputId": "9a542116-52ad-4163-9ff9-7f7a7c11a4b7"
      },
      "source": [
        "sep.count()"
      ],
      "execution_count": 19,
      "outputs": [
        {
          "output_type": "execute_result",
          "data": {
            "text/plain": [
              "150"
            ]
          },
          "metadata": {
            "tags": []
          },
          "execution_count": 19
        }
      ]
    },
    {
      "cell_type": "code",
      "metadata": {
        "trusted": true,
        "id": "lFSqJmLgCp-X",
        "colab_type": "code",
        "colab": {
          "base_uri": "https://localhost:8080/",
          "height": 84
        },
        "outputId": "d8db86fc-00eb-4314-eb21-042a11b6e964"
      },
      "source": [
        "sep.quantile([0.25,0.5,0.75])"
      ],
      "execution_count": 20,
      "outputs": [
        {
          "output_type": "execute_result",
          "data": {
            "text/plain": [
              "0.25    2.8\n",
              "0.50    3.0\n",
              "0.75    3.3\n",
              "Name: SepalWidth, dtype: float64"
            ]
          },
          "metadata": {
            "tags": []
          },
          "execution_count": 20
        }
      ]
    },
    {
      "cell_type": "markdown",
      "metadata": {
        "id": "oPgH-RxfCp-Z",
        "colab_type": "text"
      },
      "source": [
        "# 3) Statistics for PetalLength:"
      ]
    },
    {
      "cell_type": "code",
      "metadata": {
        "trusted": true,
        "id": "KvUVFIWYCp-b",
        "colab_type": "code",
        "colab": {
          "base_uri": "https://localhost:8080/",
          "height": 1058
        },
        "outputId": "5fb36b88-fd9d-4ee8-f011-33296de58345"
      },
      "source": [
        "sep = pd.Series(df['PetalLength'])\n",
        "sep"
      ],
      "execution_count": 21,
      "outputs": [
        {
          "output_type": "execute_result",
          "data": {
            "text/plain": [
              "0      1.4\n",
              "1      1.4\n",
              "2      1.3\n",
              "3      1.5\n",
              "4      1.4\n",
              "5      1.7\n",
              "6      1.4\n",
              "7      1.5\n",
              "8      1.4\n",
              "9      1.5\n",
              "10     1.5\n",
              "11     1.6\n",
              "12     1.4\n",
              "13     1.1\n",
              "14     1.2\n",
              "15     1.5\n",
              "16     1.3\n",
              "17     1.4\n",
              "18     1.7\n",
              "19     1.5\n",
              "20     1.7\n",
              "21     1.5\n",
              "22     1.0\n",
              "23     1.7\n",
              "24     1.9\n",
              "25     1.6\n",
              "26     1.6\n",
              "27     1.5\n",
              "28     1.4\n",
              "29     1.6\n",
              "      ... \n",
              "120    5.7\n",
              "121    4.9\n",
              "122    6.7\n",
              "123    4.9\n",
              "124    5.7\n",
              "125    6.0\n",
              "126    4.8\n",
              "127    4.9\n",
              "128    5.6\n",
              "129    5.8\n",
              "130    6.1\n",
              "131    6.4\n",
              "132    5.6\n",
              "133    5.1\n",
              "134    5.6\n",
              "135    6.1\n",
              "136    5.6\n",
              "137    5.5\n",
              "138    4.8\n",
              "139    5.4\n",
              "140    5.6\n",
              "141    5.1\n",
              "142    5.1\n",
              "143    5.9\n",
              "144    5.7\n",
              "145    5.2\n",
              "146    5.0\n",
              "147    5.2\n",
              "148    5.4\n",
              "149    5.1\n",
              "Name: PetalLength, Length: 150, dtype: float64"
            ]
          },
          "metadata": {
            "tags": []
          },
          "execution_count": 21
        }
      ]
    },
    {
      "cell_type": "code",
      "metadata": {
        "trusted": true,
        "id": "TXM01fBGCp-d",
        "colab_type": "code",
        "colab": {
          "base_uri": "https://localhost:8080/",
          "height": 34
        },
        "outputId": "2652d0b5-cc53-4947-b854-8e2b5a26928d"
      },
      "source": [
        "sep.min()"
      ],
      "execution_count": 22,
      "outputs": [
        {
          "output_type": "execute_result",
          "data": {
            "text/plain": [
              "1.0"
            ]
          },
          "metadata": {
            "tags": []
          },
          "execution_count": 22
        }
      ]
    },
    {
      "cell_type": "code",
      "metadata": {
        "trusted": true,
        "id": "ztge4JWACp-h",
        "colab_type": "code",
        "colab": {
          "base_uri": "https://localhost:8080/",
          "height": 34
        },
        "outputId": "dc9bfa9e-c634-48e6-928b-8e134da571f2"
      },
      "source": [
        "sep.max()"
      ],
      "execution_count": 23,
      "outputs": [
        {
          "output_type": "execute_result",
          "data": {
            "text/plain": [
              "6.9"
            ]
          },
          "metadata": {
            "tags": []
          },
          "execution_count": 23
        }
      ]
    },
    {
      "cell_type": "code",
      "metadata": {
        "trusted": true,
        "id": "pWICVAKVCp-j",
        "colab_type": "code",
        "colab": {
          "base_uri": "https://localhost:8080/",
          "height": 34
        },
        "outputId": "36dc45c9-8706-46db-b400-41ff585ed556"
      },
      "source": [
        "sep.mean()"
      ],
      "execution_count": 24,
      "outputs": [
        {
          "output_type": "execute_result",
          "data": {
            "text/plain": [
              "3.7586666666666693"
            ]
          },
          "metadata": {
            "tags": []
          },
          "execution_count": 24
        }
      ]
    },
    {
      "cell_type": "code",
      "metadata": {
        "trusted": true,
        "id": "gW9jeEi-Cp-m",
        "colab_type": "code",
        "colab": {
          "base_uri": "https://localhost:8080/",
          "height": 34
        },
        "outputId": "96eebc62-dbeb-423a-fa42-a274e61f892e"
      },
      "source": [
        "sep.max() - sep.min()"
      ],
      "execution_count": 25,
      "outputs": [
        {
          "output_type": "execute_result",
          "data": {
            "text/plain": [
              "5.9"
            ]
          },
          "metadata": {
            "tags": []
          },
          "execution_count": 25
        }
      ]
    },
    {
      "cell_type": "code",
      "metadata": {
        "trusted": true,
        "id": "wqPOTSR_Cp-o",
        "colab_type": "code",
        "colab": {
          "base_uri": "https://localhost:8080/",
          "height": 34
        },
        "outputId": "32671381-54fa-4499-b59f-8c9554453a24"
      },
      "source": [
        "sep.std()"
      ],
      "execution_count": 26,
      "outputs": [
        {
          "output_type": "execute_result",
          "data": {
            "text/plain": [
              "1.7644204199522617"
            ]
          },
          "metadata": {
            "tags": []
          },
          "execution_count": 26
        }
      ]
    },
    {
      "cell_type": "code",
      "metadata": {
        "trusted": true,
        "id": "S6XnzLFFCp-q",
        "colab_type": "code",
        "colab": {
          "base_uri": "https://localhost:8080/",
          "height": 34
        },
        "outputId": "9b8a141f-f5c7-413d-d654-e9a58470c875"
      },
      "source": [
        "sep.var()"
      ],
      "execution_count": 27,
      "outputs": [
        {
          "output_type": "execute_result",
          "data": {
            "text/plain": [
              "3.1131794183445156"
            ]
          },
          "metadata": {
            "tags": []
          },
          "execution_count": 27
        }
      ]
    },
    {
      "cell_type": "code",
      "metadata": {
        "trusted": true,
        "id": "YyKhlkWVCp-s",
        "colab_type": "code",
        "colab": {
          "base_uri": "https://localhost:8080/",
          "height": 34
        },
        "outputId": "ad9cc64a-9a69-42a8-89d7-35c13dafc5e5"
      },
      "source": [
        "sep.count()"
      ],
      "execution_count": 28,
      "outputs": [
        {
          "output_type": "execute_result",
          "data": {
            "text/plain": [
              "150"
            ]
          },
          "metadata": {
            "tags": []
          },
          "execution_count": 28
        }
      ]
    },
    {
      "cell_type": "code",
      "metadata": {
        "trusted": true,
        "id": "izmv-rGeCp-u",
        "colab_type": "code",
        "colab": {
          "base_uri": "https://localhost:8080/",
          "height": 84
        },
        "outputId": "3a8f82a8-193c-4caf-ef09-cee0c0c463c0"
      },
      "source": [
        "sep.quantile([0.25,0.5,0.75])"
      ],
      "execution_count": 29,
      "outputs": [
        {
          "output_type": "execute_result",
          "data": {
            "text/plain": [
              "0.25    1.60\n",
              "0.50    4.35\n",
              "0.75    5.10\n",
              "Name: PetalLength, dtype: float64"
            ]
          },
          "metadata": {
            "tags": []
          },
          "execution_count": 29
        }
      ]
    },
    {
      "cell_type": "markdown",
      "metadata": {
        "id": "p-Mies0uCp-x",
        "colab_type": "text"
      },
      "source": [
        "# 4) Statistics for PetalWidth :"
      ]
    },
    {
      "cell_type": "code",
      "metadata": {
        "trusted": true,
        "id": "NqMLyfKaCp-y",
        "colab_type": "code",
        "colab": {},
        "outputId": "3f9a52dd-1a0d-4113-deb2-7e592b87f56d"
      },
      "source": [
        "sep = pd.Series(df['PetalWidth'])\n",
        "sep"
      ],
      "execution_count": 0,
      "outputs": [
        {
          "output_type": "execute_result",
          "data": {
            "text/plain": [
              "0      0.2\n",
              "1      0.2\n",
              "2      0.2\n",
              "3      0.2\n",
              "4      0.2\n",
              "5      0.4\n",
              "6      0.3\n",
              "7      0.2\n",
              "8      0.2\n",
              "9      0.1\n",
              "10     0.2\n",
              "11     0.2\n",
              "12     0.1\n",
              "13     0.1\n",
              "14     0.2\n",
              "15     0.4\n",
              "16     0.4\n",
              "17     0.3\n",
              "18     0.3\n",
              "19     0.3\n",
              "20     0.2\n",
              "21     0.4\n",
              "22     0.2\n",
              "23     0.5\n",
              "24     0.2\n",
              "25     0.2\n",
              "26     0.4\n",
              "27     0.2\n",
              "28     0.2\n",
              "29     0.2\n",
              "      ... \n",
              "120    2.3\n",
              "121    2.0\n",
              "122    2.0\n",
              "123    1.8\n",
              "124    2.1\n",
              "125    1.8\n",
              "126    1.8\n",
              "127    1.8\n",
              "128    2.1\n",
              "129    1.6\n",
              "130    1.9\n",
              "131    2.0\n",
              "132    2.2\n",
              "133    1.5\n",
              "134    1.4\n",
              "135    2.3\n",
              "136    2.4\n",
              "137    1.8\n",
              "138    1.8\n",
              "139    2.1\n",
              "140    2.4\n",
              "141    2.3\n",
              "142    1.9\n",
              "143    2.3\n",
              "144    2.5\n",
              "145    2.3\n",
              "146    1.9\n",
              "147    2.0\n",
              "148    2.3\n",
              "149    1.8\n",
              "Name: PetalWidth, Length: 150, dtype: float64"
            ]
          },
          "metadata": {
            "tags": []
          },
          "execution_count": 31
        }
      ]
    },
    {
      "cell_type": "code",
      "metadata": {
        "trusted": true,
        "id": "zShNwDhwCp-1",
        "colab_type": "code",
        "colab": {
          "base_uri": "https://localhost:8080/",
          "height": 34
        },
        "outputId": "460cd7e3-00b9-4d55-bfe9-44b5653a1cae"
      },
      "source": [
        "sep.max()"
      ],
      "execution_count": 30,
      "outputs": [
        {
          "output_type": "execute_result",
          "data": {
            "text/plain": [
              "6.9"
            ]
          },
          "metadata": {
            "tags": []
          },
          "execution_count": 30
        }
      ]
    },
    {
      "cell_type": "code",
      "metadata": {
        "trusted": true,
        "id": "L8LiJGQdCp-4",
        "colab_type": "code",
        "colab": {
          "base_uri": "https://localhost:8080/",
          "height": 34
        },
        "outputId": "186900ca-ed75-441a-80c9-3959254b15ad"
      },
      "source": [
        "sep.min()"
      ],
      "execution_count": 31,
      "outputs": [
        {
          "output_type": "execute_result",
          "data": {
            "text/plain": [
              "1.0"
            ]
          },
          "metadata": {
            "tags": []
          },
          "execution_count": 31
        }
      ]
    },
    {
      "cell_type": "code",
      "metadata": {
        "trusted": true,
        "id": "2cRflm-mCp-6",
        "colab_type": "code",
        "colab": {
          "base_uri": "https://localhost:8080/",
          "height": 34
        },
        "outputId": "32b8ab01-a2fe-4ea1-a15e-fee9101536e2"
      },
      "source": [
        "sep.mean()"
      ],
      "execution_count": 32,
      "outputs": [
        {
          "output_type": "execute_result",
          "data": {
            "text/plain": [
              "3.7586666666666693"
            ]
          },
          "metadata": {
            "tags": []
          },
          "execution_count": 32
        }
      ]
    },
    {
      "cell_type": "code",
      "metadata": {
        "trusted": true,
        "id": "B0iMr3F0Cp-8",
        "colab_type": "code",
        "colab": {
          "base_uri": "https://localhost:8080/",
          "height": 34
        },
        "outputId": "2e252728-4546-4ea1-8992-015edf512faf"
      },
      "source": [
        "sep.max() - sep.min()"
      ],
      "execution_count": 33,
      "outputs": [
        {
          "output_type": "execute_result",
          "data": {
            "text/plain": [
              "5.9"
            ]
          },
          "metadata": {
            "tags": []
          },
          "execution_count": 33
        }
      ]
    },
    {
      "cell_type": "code",
      "metadata": {
        "trusted": true,
        "id": "IDi5lrR5Cp-_",
        "colab_type": "code",
        "colab": {
          "base_uri": "https://localhost:8080/",
          "height": 34
        },
        "outputId": "b01b8ca7-305f-4331-8a4b-0620803aea75"
      },
      "source": [
        "sep.std()"
      ],
      "execution_count": 34,
      "outputs": [
        {
          "output_type": "execute_result",
          "data": {
            "text/plain": [
              "1.7644204199522617"
            ]
          },
          "metadata": {
            "tags": []
          },
          "execution_count": 34
        }
      ]
    },
    {
      "cell_type": "code",
      "metadata": {
        "trusted": true,
        "id": "1Yr0TbZbCp_B",
        "colab_type": "code",
        "colab": {
          "base_uri": "https://localhost:8080/",
          "height": 34
        },
        "outputId": "b0e7cebc-0de3-4ea6-c44a-aeced3ce9136"
      },
      "source": [
        "sep.var()"
      ],
      "execution_count": 35,
      "outputs": [
        {
          "output_type": "execute_result",
          "data": {
            "text/plain": [
              "3.1131794183445156"
            ]
          },
          "metadata": {
            "tags": []
          },
          "execution_count": 35
        }
      ]
    },
    {
      "cell_type": "code",
      "metadata": {
        "trusted": true,
        "id": "8l1LUOtbCp_I",
        "colab_type": "code",
        "colab": {
          "base_uri": "https://localhost:8080/",
          "height": 34
        },
        "outputId": "17c0d821-f40f-4e45-f968-51bb5ba9c491"
      },
      "source": [
        "sep.count()"
      ],
      "execution_count": 36,
      "outputs": [
        {
          "output_type": "execute_result",
          "data": {
            "text/plain": [
              "150"
            ]
          },
          "metadata": {
            "tags": []
          },
          "execution_count": 36
        }
      ]
    },
    {
      "cell_type": "code",
      "metadata": {
        "trusted": true,
        "id": "dQOSjBFDCp_N",
        "colab_type": "code",
        "colab": {
          "base_uri": "https://localhost:8080/",
          "height": 84
        },
        "outputId": "32fdfeaf-e356-497b-e864-058c51f6ac17"
      },
      "source": [
        "sep.quantile([0.25,0.5,0.75])"
      ],
      "execution_count": 37,
      "outputs": [
        {
          "output_type": "execute_result",
          "data": {
            "text/plain": [
              "0.25    1.60\n",
              "0.50    4.35\n",
              "0.75    5.10\n",
              "Name: PetalLength, dtype: float64"
            ]
          },
          "metadata": {
            "tags": []
          },
          "execution_count": 37
        }
      ]
    },
    {
      "cell_type": "markdown",
      "metadata": {
        "id": "qV_Or023Cp_P",
        "colab_type": "text"
      },
      "source": [
        "# 5) Statistics for Name:"
      ]
    },
    {
      "cell_type": "code",
      "metadata": {
        "trusted": true,
        "id": "vBaA1lhLCp_Q",
        "colab_type": "code",
        "colab": {
          "base_uri": "https://localhost:8080/",
          "height": 1058
        },
        "outputId": "28eb4f44-d603-42b4-e872-441ca1aed4ae"
      },
      "source": [
        "sep = pd.Series(df['Name'])\n",
        "sep"
      ],
      "execution_count": 38,
      "outputs": [
        {
          "output_type": "execute_result",
          "data": {
            "text/plain": [
              "0         Iris-setosa\n",
              "1         Iris-setosa\n",
              "2         Iris-setosa\n",
              "3         Iris-setosa\n",
              "4         Iris-setosa\n",
              "5         Iris-setosa\n",
              "6         Iris-setosa\n",
              "7         Iris-setosa\n",
              "8         Iris-setosa\n",
              "9         Iris-setosa\n",
              "10        Iris-setosa\n",
              "11        Iris-setosa\n",
              "12        Iris-setosa\n",
              "13        Iris-setosa\n",
              "14        Iris-setosa\n",
              "15        Iris-setosa\n",
              "16        Iris-setosa\n",
              "17        Iris-setosa\n",
              "18        Iris-setosa\n",
              "19        Iris-setosa\n",
              "20        Iris-setosa\n",
              "21        Iris-setosa\n",
              "22        Iris-setosa\n",
              "23        Iris-setosa\n",
              "24        Iris-setosa\n",
              "25        Iris-setosa\n",
              "26        Iris-setosa\n",
              "27        Iris-setosa\n",
              "28        Iris-setosa\n",
              "29        Iris-setosa\n",
              "            ...      \n",
              "120    Iris-virginica\n",
              "121    Iris-virginica\n",
              "122    Iris-virginica\n",
              "123    Iris-virginica\n",
              "124    Iris-virginica\n",
              "125    Iris-virginica\n",
              "126    Iris-virginica\n",
              "127    Iris-virginica\n",
              "128    Iris-virginica\n",
              "129    Iris-virginica\n",
              "130    Iris-virginica\n",
              "131    Iris-virginica\n",
              "132    Iris-virginica\n",
              "133    Iris-virginica\n",
              "134    Iris-virginica\n",
              "135    Iris-virginica\n",
              "136    Iris-virginica\n",
              "137    Iris-virginica\n",
              "138    Iris-virginica\n",
              "139    Iris-virginica\n",
              "140    Iris-virginica\n",
              "141    Iris-virginica\n",
              "142    Iris-virginica\n",
              "143    Iris-virginica\n",
              "144    Iris-virginica\n",
              "145    Iris-virginica\n",
              "146    Iris-virginica\n",
              "147    Iris-virginica\n",
              "148    Iris-virginica\n",
              "149    Iris-virginica\n",
              "Name: Name, Length: 150, dtype: object"
            ]
          },
          "metadata": {
            "tags": []
          },
          "execution_count": 38
        }
      ]
    },
    {
      "cell_type": "code",
      "metadata": {
        "trusted": true,
        "id": "euQbQL_3Cp_T",
        "colab_type": "code",
        "colab": {
          "base_uri": "https://localhost:8080/",
          "height": 34
        },
        "outputId": "9db40d04-fa5e-4744-99fa-37da01b72d6f"
      },
      "source": [
        "sep.min()"
      ],
      "execution_count": 39,
      "outputs": [
        {
          "output_type": "execute_result",
          "data": {
            "text/plain": [
              "'Iris-setosa'"
            ]
          },
          "metadata": {
            "tags": []
          },
          "execution_count": 39
        }
      ]
    },
    {
      "cell_type": "code",
      "metadata": {
        "trusted": true,
        "id": "tH4Fl0w5Cp_W",
        "colab_type": "code",
        "colab": {
          "base_uri": "https://localhost:8080/",
          "height": 34
        },
        "outputId": "5b8a00b4-2303-4b71-d2e3-f02453abe1bb"
      },
      "source": [
        "sep.max()"
      ],
      "execution_count": 40,
      "outputs": [
        {
          "output_type": "execute_result",
          "data": {
            "text/plain": [
              "'Iris-virginica'"
            ]
          },
          "metadata": {
            "tags": []
          },
          "execution_count": 40
        }
      ]
    },
    {
      "cell_type": "code",
      "metadata": {
        "trusted": true,
        "id": "fgXe9UI3Cp_Y",
        "colab_type": "code",
        "colab": {
          "base_uri": "https://localhost:8080/",
          "height": 34
        },
        "outputId": "8fa9be4c-0602-4bbe-d6de-e70d0d7f3fab"
      },
      "source": [
        "sep.count()"
      ],
      "execution_count": 41,
      "outputs": [
        {
          "output_type": "execute_result",
          "data": {
            "text/plain": [
              "150"
            ]
          },
          "metadata": {
            "tags": []
          },
          "execution_count": 41
        }
      ]
    },
    {
      "cell_type": "markdown",
      "metadata": {
        "id": "hBDc3Q8eCp_a",
        "colab_type": "text"
      },
      "source": [
        "# DATA VISUALISATION :\n",
        "\n",
        "## 1) Histogram -"
      ]
    },
    {
      "cell_type": "code",
      "metadata": {
        "trusted": true,
        "id": "LZqb5IrfCp_a",
        "colab_type": "code",
        "colab": {
          "base_uri": "https://localhost:8080/",
          "height": 286
        },
        "outputId": "35f20e57-eec4-4459-a748-c140996425c0"
      },
      "source": [
        "df.plot.hist(alpha=0.5)"
      ],
      "execution_count": 42,
      "outputs": [
        {
          "output_type": "execute_result",
          "data": {
            "text/plain": [
              "<matplotlib.axes._subplots.AxesSubplot at 0x7f4e65101940>"
            ]
          },
          "metadata": {
            "tags": []
          },
          "execution_count": 42
        },
        {
          "output_type": "display_data",
          "data": {
            "image/png": "[encoded data removed]",
            "text/plain": [
              "<Figure size 432x288 with 1 Axes>"
            ]
          },
          "metadata": {
            "tags": []
          }
        }
      ]
    },
    {
      "cell_type": "code",
      "metadata": {
        "trusted": true,
        "id": "B_zXPDncCp_c",
        "colab_type": "code",
        "colab": {
          "base_uri": "https://localhost:8080/",
          "height": 286
        },
        "outputId": "982732c6-75ff-4211-f922-178019d7ff8d"
      },
      "source": [
        "df['SepalLength'].plot.hist()"
      ],
      "execution_count": 43,
      "outputs": [
        {
          "output_type": "execute_result",
          "data": {
            "text/plain": [
              "<matplotlib.axes._subplots.AxesSubplot at 0x7f4e65028d30>"
            ]
          },
          "metadata": {
            "tags": []
          },
          "execution_count": 43
        },
        {
          "output_type": "display_data",
          "data": {
            "image/png": "[encoded data removed]",
            "text/plain": [
              "<Figure size 432x288 with 1 Axes>"
            ]
          },
          "metadata": {
            "tags": []
          }
        }
      ]
    },
    {
      "cell_type": "code",
      "metadata": {
        "trusted": true,
        "id": "yCDXo2-WCp_e",
        "colab_type": "code",
        "colab": {
          "base_uri": "https://localhost:8080/",
          "height": 286
        },
        "outputId": "ab9b9356-a480-42c5-b15e-f17aa3ea325e"
      },
      "source": [
        "df['SepalWidth'].plot.hist()"
      ],
      "execution_count": 44,
      "outputs": [
        {
          "output_type": "execute_result",
          "data": {
            "text/plain": [
              "<matplotlib.axes._subplots.AxesSubplot at 0x7f4e6279c7b8>"
            ]
          },
          "metadata": {
            "tags": []
          },
          "execution_count": 44
        },
        {
          "output_type": "display_data",
          "data": {
            "image/png": "[encoded data removed]",
            "text/plain": [
              "<Figure size 432x288 with 1 Axes>"
            ]
          },
          "metadata": {
            "tags": []
          }
        }
      ]
    },
    {
      "cell_type": "code",
      "metadata": {
        "trusted": true,
        "id": "e_EKwg92Cp_g",
        "colab_type": "code",
        "colab": {
          "base_uri": "https://localhost:8080/",
          "height": 286
        },
        "outputId": "842b5f18-7028-4002-97e9-8fb9000ecaff"
      },
      "source": [
        "df['PetalLength'].plot.hist()"
      ],
      "execution_count": 45,
      "outputs": [
        {
          "output_type": "execute_result",
          "data": {
            "text/plain": [
              "<matplotlib.axes._subplots.AxesSubplot at 0x7f4e627366d8>"
            ]
          },
          "metadata": {
            "tags": []
          },
          "execution_count": 45
        },
        {
          "output_type": "display_data",
          "data": {
            "image/png": "[encoded data removed]",
            "text/plain": [
              "<Figure size 432x288 with 1 Axes>"
            ]
          },
          "metadata": {
            "tags": []
          }
        }
      ]
    },
    {
      "cell_type": "code",
      "metadata": {
        "trusted": true,
        "id": "AExkUL9xCp_i",
        "colab_type": "code",
        "colab": {
          "base_uri": "https://localhost:8080/",
          "height": 286
        },
        "outputId": "dfa26443-5673-45dd-cd22-0619f72aaa58"
      },
      "source": [
        "df['PetalWidth'].plot.hist()"
      ],
      "execution_count": 46,
      "outputs": [
        {
          "output_type": "execute_result",
          "data": {
            "text/plain": [
              "<matplotlib.axes._subplots.AxesSubplot at 0x7f4e62687d68>"
            ]
          },
          "metadata": {
            "tags": []
          },
          "execution_count": 46
        },
        {
          "output_type": "display_data",
          "data": {
            "image/png": "[encoded data removed]",
            "text/plain": [
              "<Figure size 432x288 with 1 Axes>"
            ]
          },
          "metadata": {
            "tags": []
          }
        }
      ]
    },
    {
      "cell_type": "markdown",
      "metadata": {
        "id": "4Qust_N5Cp_k",
        "colab_type": "text"
      },
      "source": [
        "## 2) Boxplot - "
      ]
    },
    {
      "cell_type": "code",
      "metadata": {
        "trusted": true,
        "id": "ZxZOZKKhCp_k",
        "colab_type": "code",
        "colab": {},
        "outputId": "e180d982-7f00-4ba3-d8c5-f7b45be6cab4"
      },
      "source": [
        "color = {'boxes': 'DarkGreen', 'whiskers': 'DarkOrange',\n",
        "   ....:          'medians': 'DarkBlue', 'caps': 'Gray'}\n",
        "df.plot.box(color=color ,grid = True)"
      ],
      "execution_count": 0,
      "outputs": [
        {
          "output_type": "execute_result",
          "data": {
            "text/plain": [
              "<matplotlib.axes._subplots.AxesSubplot at 0x7fdefd3482e8>"
            ]
          },
          "metadata": {
            "tags": []
          },
          "execution_count": 49
        },
        {
          "output_type": "display_data",
          "data": {
            "image/png": "[encoded data removed]",
            "text/plain": [
              "<Figure size 432x288 with 1 Axes>"
            ]
          },
          "metadata": {
            "tags": [],
            "needs_background": "light"
          }
        }
      ]
    },
    {
      "cell_type": "code",
      "metadata": {
        "trusted": true,
        "id": "qIkg22wzCp_m",
        "colab_type": "code",
        "colab": {}
      },
      "source": [
        ""
      ],
      "execution_count": 0,
      "outputs": []
    }
  ]
}