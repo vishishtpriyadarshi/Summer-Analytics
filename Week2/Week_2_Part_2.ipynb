{
  "nbformat": 4,
  "nbformat_minor": 0,
  "metadata": {
    "colab": {
      "name": "Week - 2_Part_2.ipynb",
      "version": "0.3.2",
      "provenance": [],
      "collapsed_sections": []
    },
    "kernelspec": {
      "name": "python3",
      "display_name": "Python 3"
    }
  },
  "cells": [
    {
      "cell_type": "code",
      "metadata": {
        "id": "U15R40KasoDq",
        "colab_type": "code",
        "colab": {}
      },
      "source": [
        "import matplotlib.pyplot as plt\n",
        "import numpy as np"
      ],
      "execution_count": 0,
      "outputs": []
    },
    {
      "cell_type": "markdown",
      "metadata": {
        "id": "eBHYS9iq0Fn0",
        "colab_type": "text"
      },
      "source": [
        "# USING rand() FUNCTION :"
      ]
    },
    {
      "cell_type": "code",
      "metadata": {
        "id": "dCrJw5zeuWuR",
        "colab_type": "code",
        "outputId": "8dd72f59-2703-496f-818a-468209bf8b1e",
        "colab": {
          "base_uri": "https://localhost:8080/",
          "height": 353
        }
      },
      "source": [
        "data1 = [j for i in np.random.rand(10,10) for j in i] \n",
        "plt.hist(data1)"
      ],
      "execution_count": 0,
      "outputs": [
        {
          "output_type": "execute_result",
          "data": {
            "text/plain": [
              "(array([ 9., 13., 12., 15.,  9.,  8.,  7.,  8.,  9., 10.]),\n",
              " array([0.0131122 , 0.11063998, 0.20816776, 0.30569554, 0.40322333,\n",
              "        0.50075111, 0.59827889, 0.69580667, 0.79333445, 0.89086223,\n",
              "        0.98839002]),\n",
              " <a list of 10 Patch objects>)"
            ]
          },
          "metadata": {
            "tags": []
          },
          "execution_count": 22
        },
        {
          "output_type": "display_data",
          "data": {
            "image/png": "[encoded data removed]",
            "text/plain": [
              "<Figure size 432x288 with 1 Axes>"
            ]
          },
          "metadata": {
            "tags": []
          }
        }
      ]
    },
    {
      "cell_type": "code",
      "metadata": {
        "id": "5wAT5oqnuoTG",
        "colab_type": "code",
        "outputId": "b9796b5d-1596-4b4c-ff49-874ae8ba9214",
        "colab": {
          "base_uri": "https://localhost:8080/",
          "height": 353
        }
      },
      "source": [
        "data2 = [j for i in np.random.rand(50,50) for j in i] \n",
        "plt.hist(data2)"
      ],
      "execution_count": 0,
      "outputs": [
        {
          "output_type": "execute_result",
          "data": {
            "text/plain": [
              "(array([245., 249., 250., 258., 269., 247., 261., 250., 230., 241.]),\n",
              " array([5.98453319e-04, 1.00496405e-01, 2.00394357e-01, 3.00292310e-01,\n",
              "        4.00190262e-01, 5.00088214e-01, 5.99986166e-01, 6.99884118e-01,\n",
              "        7.99782070e-01, 8.99680022e-01, 9.99577974e-01]),\n",
              " <a list of 10 Patch objects>)"
            ]
          },
          "metadata": {
            "tags": []
          },
          "execution_count": 23
        },
        {
          "output_type": "display_data",
          "data": {
            "image/png": "[encoded data removed]",
            "text/plain": [
              "<Figure size 432x288 with 1 Axes>"
            ]
          },
          "metadata": {
            "tags": []
          }
        }
      ]
    },
    {
      "cell_type": "code",
      "metadata": {
        "id": "UNgXZim7utd4",
        "colab_type": "code",
        "outputId": "b50d9a91-7301-4140-8200-d6816423ed71",
        "colab": {
          "base_uri": "https://localhost:8080/",
          "height": 370
        }
      },
      "source": [
        "data3 = [j for i in np.random.rand(100,100) for j in i] \n",
        "plt.hist(data3)"
      ],
      "execution_count": 0,
      "outputs": [
        {
          "output_type": "execute_result",
          "data": {
            "text/plain": [
              "(array([1016.,  950., 1008.,  977.,  983.,  981., 1025., 1031.,  979.,\n",
              "        1050.]),\n",
              " array([1.11211584e-04, 1.00082366e-01, 2.00053520e-01, 3.00024674e-01,\n",
              "        3.99995828e-01, 4.99966982e-01, 5.99938136e-01, 6.99909290e-01,\n",
              "        7.99880444e-01, 8.99851598e-01, 9.99822752e-01]),\n",
              " <a list of 10 Patch objects>)"
            ]
          },
          "metadata": {
            "tags": []
          },
          "execution_count": 24
        },
        {
          "output_type": "display_data",
          "data": {
            "image/png": "[encoded data removed]",
            "text/plain": [
              "<Figure size 432x288 with 1 Axes>"
            ]
          },
          "metadata": {
            "tags": []
          }
        }
      ]
    },
    {
      "cell_type": "code",
      "metadata": {
        "id": "7cX6QmzxwIo4",
        "colab_type": "code",
        "outputId": "75ada965-5044-4055-caa8-bc49a93ef43a",
        "colab": {
          "base_uri": "https://localhost:8080/",
          "height": 370
        }
      },
      "source": [
        "data4 = [j for i in np.random.rand(1000,1000) for j in i] \n",
        "plt.hist(data4)"
      ],
      "execution_count": 0,
      "outputs": [
        {
          "output_type": "execute_result",
          "data": {
            "text/plain": [
              "(array([ 99625., 100409., 100163., 100187.,  99797.,  99745., 100053.,\n",
              "         99865., 100445.,  99711.]),\n",
              " array([5.37597293e-07, 1.00000442e-01, 2.00000346e-01, 3.00000250e-01,\n",
              "        4.00000155e-01, 5.00000059e-01, 5.99999963e-01, 6.99999867e-01,\n",
              "        7.99999771e-01, 8.99999676e-01, 9.99999580e-01]),\n",
              " <a list of 10 Patch objects>)"
            ]
          },
          "metadata": {
            "tags": []
          },
          "execution_count": 25
        },
        {
          "output_type": "display_data",
          "data": {
            "image/png": "[encoded data removed]",
            "text/plain": [
              "<Figure size 432x288 with 1 Axes>"
            ]
          },
          "metadata": {
            "tags": []
          }
        }
      ]
    },
    {
      "cell_type": "code",
      "metadata": {
        "id": "JzoWB9y5wmCF",
        "colab_type": "code",
        "outputId": "ab43894e-45a0-483c-c24e-87544b0dcd46",
        "colab": {
          "base_uri": "https://localhost:8080/",
          "height": 370
        }
      },
      "source": [
        "data5 = [j for i in np.random.rand(5000,5000) for j in i] \n",
        "plt.hist(data5)"
      ],
      "execution_count": 0,
      "outputs": [
        {
          "output_type": "execute_result",
          "data": {
            "text/plain": [
              "(array([2499780., 2498475., 2502106., 2499571., 2499686., 2499937.,\n",
              "        2500560., 2499926., 2501015., 2498944.]),\n",
              " array([8.13577317e-10, 1.00000000e-01, 1.99999999e-01, 2.99999999e-01,\n",
              "        3.99999998e-01, 4.99999997e-01, 5.99999997e-01, 6.99999996e-01,\n",
              "        7.99999995e-01, 8.99999995e-01, 9.99999994e-01]),\n",
              " <a list of 10 Patch objects>)"
            ]
          },
          "metadata": {
            "tags": []
          },
          "execution_count": 26
        },
        {
          "output_type": "display_data",
          "data": {
            "image/png": "[encoded data removed]",
            "text/plain": [
              "<Figure size 432x288 with 1 Axes>"
            ]
          },
          "metadata": {
            "tags": []
          }
        }
      ]
    },
    {
      "cell_type": "markdown",
      "metadata": {
        "id": "0vL4gcHfUH9C",
        "colab_type": "text"
      },
      "source": [
        "# OBSERVATION :\n",
        "\n",
        "The shape of the histogram is almost **uniform** which is more reflected as the input size is increased .\n",
        "This is because **rand()** takes input from a uniform distribution over [0,1).]"
      ]
    },
    {
      "cell_type": "markdown",
      "metadata": {
        "id": "BtTZONA40N7Q",
        "colab_type": "text"
      },
      "source": [
        "# USING normal() FUNCTION :"
      ]
    },
    {
      "cell_type": "code",
      "metadata": {
        "id": "l3PGWJOiwqqa",
        "colab_type": "code",
        "outputId": "b120b6d6-049a-45dc-a319-b9216867289e",
        "colab": {
          "base_uri": "https://localhost:8080/",
          "height": 353
        }
      },
      "source": [
        "ndata1 = [j for i in np.random.normal(loc = 0,scale = 1,size = (10,10)) for j in i]\n",
        "plt.hist(ndata1)\n"
      ],
      "execution_count": 0,
      "outputs": [
        {
          "output_type": "execute_result",
          "data": {
            "text/plain": [
              "(array([ 2.,  2., 10., 25., 25., 23.,  9.,  3.,  0.,  1.]),\n",
              " array([-2.83274306, -2.21261061, -1.59247816, -0.97234571, -0.35221326,\n",
              "         0.26791919,  0.88805164,  1.50818409,  2.12831654,  2.74844899,\n",
              "         3.36858144]),\n",
              " <a list of 10 Patch objects>)"
            ]
          },
          "metadata": {
            "tags": []
          },
          "execution_count": 27
        },
        {
          "output_type": "display_data",
          "data": {
            "image/png": "[encoded data removed]",
            "text/plain": [
              "<Figure size 432x288 with 1 Axes>"
            ]
          },
          "metadata": {
            "tags": []
          }
        }
      ]
    },
    {
      "cell_type": "code",
      "metadata": {
        "id": "AFO0T7Nix6ko",
        "colab_type": "code",
        "outputId": "f00bdc9e-bb40-4991-e5d3-7f74bfc7b167",
        "colab": {
          "base_uri": "https://localhost:8080/",
          "height": 353
        }
      },
      "source": [
        "ndata2 = [j for i in np.random.normal(loc = 0,scale = 1,size = (50,50)) for j in i]\n",
        "plt.hist(ndata2)\n"
      ],
      "execution_count": 0,
      "outputs": [
        {
          "output_type": "execute_result",
          "data": {
            "text/plain": [
              "(array([  2.,  22., 141., 379., 717., 682., 398., 131.,  25.,   3.]),\n",
              " array([-3.83555272, -3.074517  , -2.31348129, -1.55244557, -0.79140986,\n",
              "        -0.03037414,  0.73066157,  1.49169729,  2.252733  ,  3.01376872,\n",
              "         3.77480443]),\n",
              " <a list of 10 Patch objects>)"
            ]
          },
          "metadata": {
            "tags": []
          },
          "execution_count": 28
        },
        {
          "output_type": "display_data",
          "data": {
            "image/png": "[encoded data removed]",
            "text/plain": [
              "<Figure size 432x288 with 1 Axes>"
            ]
          },
          "metadata": {
            "tags": []
          }
        }
      ]
    },
    {
      "cell_type": "code",
      "metadata": {
        "id": "Na8NuWSUyCda",
        "colab_type": "code",
        "outputId": "3a913218-5ba7-4103-b71c-587641649f27",
        "colab": {
          "base_uri": "https://localhost:8080/",
          "height": 370
        }
      },
      "source": [
        "ndata3 = [j for i in np.random.normal(loc = 0,scale = 1,size = (500,500)) for j in i]\n",
        "plt.hist(ndata3)\n"
      ],
      "execution_count": 0,
      "outputs": [
        {
          "output_type": "execute_result",
          "data": {
            "text/plain": [
              "(array([7.2000e+01, 1.3920e+03, 1.2777e+04, 5.0383e+04, 8.8484e+04,\n",
              "        6.8932e+04, 2.4032e+04, 3.6790e+03, 2.3800e+02, 1.1000e+01]),\n",
              " array([-4.37785848, -3.44526332, -2.51266817, -1.58007301, -0.64747785,\n",
              "         0.2851173 ,  1.21771246,  2.15030761,  3.08290277,  4.01549792,\n",
              "         4.94809308]),\n",
              " <a list of 10 Patch objects>)"
            ]
          },
          "metadata": {
            "tags": []
          },
          "execution_count": 29
        },
        {
          "output_type": "display_data",
          "data": {
            "image/png": "[encoded data removed]",
            "text/plain": [
              "<Figure size 432x288 with 1 Axes>"
            ]
          },
          "metadata": {
            "tags": []
          }
        }
      ]
    },
    {
      "cell_type": "code",
      "metadata": {
        "id": "WidgAtzKyG2i",
        "colab_type": "code",
        "outputId": "493ce1dc-2860-4e1e-b479-94dbc74ccce1",
        "colab": {
          "base_uri": "https://localhost:8080/",
          "height": 370
        }
      },
      "source": [
        "ndata4 = [j for i in np.random.normal(loc = 0,scale = 1,size = (1000,1000)) for j in i]\n",
        "plt.hist(ndata4)\n"
      ],
      "execution_count": 0,
      "outputs": [
        {
          "output_type": "execute_result",
          "data": {
            "text/plain": [
              "(array([6.20000e+01, 1.79300e+03, 2.24890e+04, 1.27552e+05, 3.13155e+05,\n",
              "        3.38749e+05, 1.60225e+05, 3.28680e+04, 3.00200e+03, 1.05000e+02]),\n",
              " array([-4.79633247, -3.85450389, -2.91267531, -1.97084672, -1.02901814,\n",
              "        -0.08718956,  0.85463902,  1.79646761,  2.73829619,  3.68012477,\n",
              "         4.62195336]),\n",
              " <a list of 10 Patch objects>)"
            ]
          },
          "metadata": {
            "tags": []
          },
          "execution_count": 31
        },
        {
          "output_type": "display_data",
          "data": {
            "image/png": "[encoded data removed]",
            "text/plain": [
              "<Figure size 432x288 with 1 Axes>"
            ]
          },
          "metadata": {
            "tags": []
          }
        }
      ]
    },
    {
      "cell_type": "code",
      "metadata": {
        "id": "3Cj8XeVRyLbV",
        "colab_type": "code",
        "outputId": "15fc5ba5-9505-4a61-9a70-c5546d4f67e0",
        "colab": {
          "base_uri": "https://localhost:8080/",
          "height": 394
        }
      },
      "source": [
        "ndata5 = [j for i in np.random.normal(loc = 0,scale = 1,size = (5000,5000)) for j in i]\n",
        "plt.hist(ndata5)\n"
      ],
      "execution_count": 0,
      "outputs": [
        {
          "output_type": "execute_result",
          "data": {
            "text/plain": [
              "(array([5.680000e+02, 3.053500e+04, 5.872920e+05, 3.962351e+06,\n",
              "        9.475381e+06, 8.151392e+06, 2.508273e+06, 2.736210e+05,\n",
              "        1.044900e+04, 1.380000e+02]),\n",
              " array([-5.14602583, -4.08543311, -3.02484039, -1.96424766, -0.90365494,\n",
              "         0.15693778,  1.2175305 ,  2.27812322,  3.33871594,  4.39930867,\n",
              "         5.45990139]),\n",
              " <a list of 10 Patch objects>)"
            ]
          },
          "metadata": {
            "tags": []
          },
          "execution_count": 32
        },
        {
          "output_type": "display_data",
          "data": {
            "image/png": "[encoded data removed]",
            "text/plain": [
              "<Figure size 432x288 with 1 Axes>"
            ]
          },
          "metadata": {
            "tags": []
          }
        }
      ]
    },
    {
      "cell_type": "code",
      "metadata": {
        "id": "X9W9WGt1ySCv",
        "colab_type": "code",
        "outputId": "a21f7ca8-fcb8-45f1-ec3f-b0ecf561d20e",
        "colab": {
          "base_uri": "https://localhost:8080/",
          "height": 394
        }
      },
      "source": [
        "ndata6 = [j for i in np.random.normal(loc = 0,scale = 1,size = (10000,10000)) for j in i]\n",
        "plt.hist(ndata6)\n"
      ],
      "execution_count": 0,
      "outputs": [
        {
          "output_type": "execute_result",
          "data": {
            "text/plain": [
              "(array([7.8400000e+02, 5.6263000e+04, 1.3894540e+06, 1.1738998e+07,\n",
              "        3.4787384e+07, 3.6542801e+07, 1.3620855e+07, 1.7823560e+06,\n",
              "        7.9865000e+04, 1.2400000e+03]),\n",
              " array([-5.38513377, -4.31828422, -3.25143467, -2.18458513, -1.11773558,\n",
              "        -0.05088603,  1.01596352,  2.08281307,  3.14966261,  4.21651216,\n",
              "         5.28336171]),\n",
              " <a list of 10 Patch objects>)"
            ]
          },
          "metadata": {
            "tags": []
          },
          "execution_count": 2
        },
        {
          "output_type": "display_data",
          "data": {
            "image/png": "[encoded data removed]",
            "text/plain": [
              "<Figure size 432x288 with 1 Axes>"
            ]
          },
          "metadata": {
            "tags": []
          }
        }
      ]
    },
    {
      "cell_type": "markdown",
      "metadata": {
        "id": "FXsYElFKViIn",
        "colab_type": "text"
      },
      "source": [
        "# OBSERVATION :\n",
        "\n",
        "We get the familiar **bell-shape** which is more pronounced as the sample size increases."
      ]
    },
    {
      "cell_type": "markdown",
      "metadata": {
        "id": "wxRrDNw80Z37",
        "colab_type": "text"
      },
      "source": [
        "# USING logistic() FUNCTION :"
      ]
    },
    {
      "cell_type": "code",
      "metadata": {
        "id": "m9b0HytjyaMi",
        "colab_type": "code",
        "outputId": "702e2542-d024-43d3-a202-82b813d2008b",
        "colab": {
          "base_uri": "https://localhost:8080/",
          "height": 370
        }
      },
      "source": [
        "ldata1 = [j for i in np.random.logistic(loc = 0,scale = 1,size = (100,100)) for j in i]\n",
        "plt.hist(ldata1)"
      ],
      "execution_count": 0,
      "outputs": [
        {
          "output_type": "execute_result",
          "data": {
            "text/plain": [
              "(array([2.300e+01, 1.140e+02, 7.240e+02, 3.089e+03, 4.263e+03, 1.477e+03,\n",
              "        2.660e+02, 4.200e+01, 0.000e+00, 2.000e+00]),\n",
              " array([-8.21784876, -6.27230523, -4.32676169, -2.38121816, -0.43567462,\n",
              "         1.50986892,  3.45541245,  5.40095599,  7.34649952,  9.29204306,\n",
              "        11.23758659]),\n",
              " <a list of 10 Patch objects>)"
            ]
          },
          "metadata": {
            "tags": []
          },
          "execution_count": 3
        },
        {
          "output_type": "display_data",
          "data": {
            "image/png": "[encoded data removed]",
            "text/plain": [
              "<Figure size 432x288 with 1 Axes>"
            ]
          },
          "metadata": {
            "tags": []
          }
        }
      ]
    },
    {
      "cell_type": "code",
      "metadata": {
        "id": "0uLKwqZj08Q3",
        "colab_type": "code",
        "outputId": "f411b441-4555-4d6e-c817-fb65860e71e4",
        "colab": {
          "base_uri": "https://localhost:8080/",
          "height": 370
        }
      },
      "source": [
        "ldata2 = [j for i in np.random.logistic(loc = 0,scale = 1,size = (1000,1000)) for j in i]\n",
        "plt.hist(ldata2)"
      ],
      "execution_count": 0,
      "outputs": [
        {
          "output_type": "execute_result",
          "data": {
            "text/plain": [
              "(array([1.10000e+01, 2.26000e+02, 4.14000e+03, 6.12850e+04, 4.67056e+05,\n",
              "        4.15869e+05, 4.79730e+04, 3.22100e+03, 2.05000e+02, 1.40000e+01]),\n",
              " array([-13.79702151, -11.01197651,  -8.2269315 ,  -5.44188649,\n",
              "         -2.65684148,   0.12820352,   2.91324853,   5.69829354,\n",
              "          8.48333855,  11.26838355,  14.05342856]),\n",
              " <a list of 10 Patch objects>)"
            ]
          },
          "metadata": {
            "tags": []
          },
          "execution_count": 4
        },
        {
          "output_type": "display_data",
          "data": {
            "image/png": "[encoded data removed]",
            "text/plain": [
              "<Figure size 432x288 with 1 Axes>"
            ]
          },
          "metadata": {
            "tags": []
          }
        }
      ]
    },
    {
      "cell_type": "code",
      "metadata": {
        "id": "W62DqyaU1CK0",
        "colab_type": "code",
        "colab": {}
      },
      "source": [
        ""
      ],
      "execution_count": 0,
      "outputs": []
    },
    {
      "cell_type": "markdown",
      "metadata": {
        "id": "ruhi2kuJ1D8L",
        "colab_type": "text"
      },
      "source": [
        "# USING binomial() FUNCTION :"
      ]
    },
    {
      "cell_type": "code",
      "metadata": {
        "id": "it9Q370d1Hu-",
        "colab_type": "code",
        "outputId": "b88fca6a-07c2-4487-ee1a-8215e93568d7",
        "colab": {
          "base_uri": "https://localhost:8080/",
          "height": 336
        }
      },
      "source": [
        "plt.hist(np.random.binomial(500, 0.5, size=10))"
      ],
      "execution_count": 0,
      "outputs": [
        {
          "output_type": "execute_result",
          "data": {
            "text/plain": [
              "(array([1., 0., 0., 0., 1., 4., 0., 2., 1., 1.]),\n",
              " array([231. , 234.8, 238.6, 242.4, 246.2, 250. , 253.8, 257.6, 261.4,\n",
              "        265.2, 269. ]),\n",
              " <a list of 10 Patch objects>)"
            ]
          },
          "metadata": {
            "tags": []
          },
          "execution_count": 11
        },
        {
          "output_type": "display_data",
          "data": {
            "image/png": "[encoded data removed]",
            "text/plain": [
              "<Figure size 432x288 with 1 Axes>"
            ]
          },
          "metadata": {
            "tags": []
          }
        }
      ]
    },
    {
      "cell_type": "code",
      "metadata": {
        "id": "gBHVCac21_vg",
        "colab_type": "code",
        "outputId": "8fb504b3-5de3-444a-bff6-41eaaf6f47f7",
        "colab": {
          "base_uri": "https://localhost:8080/",
          "height": 336
        }
      },
      "source": [
        "plt.hist(np.random.binomial(500, 0.5, size=100))"
      ],
      "execution_count": 0,
      "outputs": [
        {
          "output_type": "execute_result",
          "data": {
            "text/plain": [
              "(array([ 3.,  3., 10., 16., 15., 19., 12., 16.,  4.,  2.]),\n",
              " array([220. , 225.8, 231.6, 237.4, 243.2, 249. , 254.8, 260.6, 266.4,\n",
              "        272.2, 278. ]),\n",
              " <a list of 10 Patch objects>)"
            ]
          },
          "metadata": {
            "tags": []
          },
          "execution_count": 12
        },
        {
          "output_type": "display_data",
          "data": {
            "image/png": "[encoded data removed]",
            "text/plain": [
              "<Figure size 432x288 with 1 Axes>"
            ]
          },
          "metadata": {
            "tags": []
          }
        }
      ]
    },
    {
      "cell_type": "code",
      "metadata": {
        "id": "b0DIh8gK2CCL",
        "colab_type": "code",
        "outputId": "732fec42-3081-497b-ce3d-3f75edb1cd14",
        "colab": {
          "base_uri": "https://localhost:8080/",
          "height": 353
        }
      },
      "source": [
        "plt.hist(np.random.binomial(500, 0.5, size=5000))"
      ],
      "execution_count": 0,
      "outputs": [
        {
          "output_type": "execute_result",
          "data": {
            "text/plain": [
              "(array([   3.,   19.,  107.,  558., 1064., 1372., 1245.,  469.,  140.,\n",
              "          23.]),\n",
              " array([204. , 212.3, 220.6, 228.9, 237.2, 245.5, 253.8, 262.1, 270.4,\n",
              "        278.7, 287. ]),\n",
              " <a list of 10 Patch objects>)"
            ]
          },
          "metadata": {
            "tags": []
          },
          "execution_count": 10
        },
        {
          "output_type": "display_data",
          "data": {
            "image/png": "[encoded data removed]",
            "text/plain": [
              "<Figure size 432x288 with 1 Axes>"
            ]
          },
          "metadata": {
            "tags": []
          }
        }
      ]
    },
    {
      "cell_type": "code",
      "metadata": {
        "id": "rUGWpmb42Kjk",
        "colab_type": "code",
        "colab": {}
      },
      "source": [
        ""
      ],
      "execution_count": 0,
      "outputs": []
    }
  ]
}