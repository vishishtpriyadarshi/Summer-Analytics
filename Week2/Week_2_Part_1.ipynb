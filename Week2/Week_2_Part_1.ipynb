{
  "nbformat": 4,
  "nbformat_minor": 0,
  "metadata": {
    "colab": {
      "name": "Week2_Part_1.ipynb",
      "version": "0.3.2",
      "provenance": [],
      "collapsed_sections": [],
      "toc_visible": true
    },
    "kernelspec": {
      "name": "python3",
      "display_name": "Python 3"
    }
  },
  "cells": [
    {
      "cell_type": "code",
      "metadata": {
        "id": "OFZeUvE6nXvI",
        "colab_type": "code",
        "colab": {}
      },
      "source": [
        "import pandas as pd\n",
        "import numpy as np\n",
        "import matplotlib.pyplot as plt\n",
        "%matplotlib inline"
      ],
      "execution_count": 0,
      "outputs": []
    },
    {
      "cell_type": "code",
      "metadata": {
        "id": "9tG5NFP_n0uS",
        "colab_type": "code",
        "colab": {}
      },
      "source": [
        "houses = pd.read_csv('houses.csv')"
      ],
      "execution_count": 0,
      "outputs": []
    },
    {
      "cell_type": "code",
      "metadata": {
        "id": "SvSg9SAvo2_e",
        "colab_type": "code",
        "colab": {}
      },
      "source": [
        "cols = ['Transaction unique identifier','Price','Date of Transfer','Postcode','Property Type','Old/New','Duration','PAON','SAON','Street','Locality','Town/City','District','Country','PPDCategory Type','Record Status - monthly file only']\n",
        "houses = pd.read_csv('houses.csv',header=None,names = cols)"
      ],
      "execution_count": 0,
      "outputs": []
    },
    {
      "cell_type": "code",
      "metadata": {
        "id": "cOJBl1_qo5Tk",
        "colab_type": "code",
        "outputId": "26ac1bbd-83d8-4259-8336-7d87f6766eec",
        "colab": {
          "base_uri": "https://localhost:8080/",
          "height": 534
        }
      },
      "source": [
        "houses.head()"
      ],
      "execution_count": 7,
      "outputs": [
        {
          "output_type": "execute_result",
          "data": {
            "text/html": [
              "<div>\n",
              "<style scoped>\n",
              "    .dataframe tbody tr th:only-of-type {\n",
              "        vertical-align: middle;\n",
              "    }\n",
              "\n",
              "    .dataframe tbody tr th {\n",
              "        vertical-align: top;\n",
              "    }\n",
              "\n",
              "    .dataframe thead th {\n",
              "        text-align: right;\n",
              "    }\n",
              "</style>\n",
              "<table border=\"1\" class=\"dataframe\">\n",
              "  <thead>\n",
              "    <tr style=\"text-align: right;\">\n",
              "      <th></th>\n",
              "      <th>Transaction unique identifier</th>\n",
              "      <th>Price</th>\n",
              "      <th>Date of Transfer</th>\n",
              "      <th>Postcode</th>\n",
              "      <th>Property Type</th>\n",
              "      <th>Old/New</th>\n",
              "      <th>Duration</th>\n",
              "      <th>PAON</th>\n",
              "      <th>SAON</th>\n",
              "      <th>Street</th>\n",
              "      <th>Locality</th>\n",
              "      <th>Town/City</th>\n",
              "      <th>District</th>\n",
              "      <th>Country</th>\n",
              "      <th>PPDCategory Type</th>\n",
              "      <th>Record Status - monthly file only</th>\n",
              "    </tr>\n",
              "  </thead>\n",
              "  <tbody>\n",
              "    <tr>\n",
              "      <th>0</th>\n",
              "      <td>{02A6460F-C1F3-4977-B7ED-2A77C79302AE}</td>\n",
              "      <td>52000</td>\n",
              "      <td>2001-12-07 00:00</td>\n",
              "      <td>DE6 1BL</td>\n",
              "      <td>S</td>\n",
              "      <td>N</td>\n",
              "      <td>F</td>\n",
              "      <td>1A</td>\n",
              "      <td>NaN</td>\n",
              "      <td>OLD HILL</td>\n",
              "      <td>ASHBOURNE</td>\n",
              "      <td>ASHBOURNE</td>\n",
              "      <td>DERBYSHIRE DALES</td>\n",
              "      <td>DERBYSHIRE</td>\n",
              "      <td>A</td>\n",
              "      <td>A</td>\n",
              "    </tr>\n",
              "    <tr>\n",
              "      <th>1</th>\n",
              "      <td>{5EEB0C41-09F5-4BDF-A73E-A4E72E20BFC4}</td>\n",
              "      <td>57000</td>\n",
              "      <td>2003-09-12 00:00</td>\n",
              "      <td>B36 0RA</td>\n",
              "      <td>T</td>\n",
              "      <td>N</td>\n",
              "      <td>F</td>\n",
              "      <td>44</td>\n",
              "      <td>NaN</td>\n",
              "      <td>GREENFINCH ROAD</td>\n",
              "      <td>BIRMINGHAM</td>\n",
              "      <td>BIRMINGHAM</td>\n",
              "      <td>SOLIHULL</td>\n",
              "      <td>WEST MIDLANDS</td>\n",
              "      <td>A</td>\n",
              "      <td>A</td>\n",
              "    </tr>\n",
              "    <tr>\n",
              "      <th>2</th>\n",
              "      <td>{09975216-3588-418C-B6C5-A5704B0E77DE}</td>\n",
              "      <td>69500</td>\n",
              "      <td>2005-12-21 00:00</td>\n",
              "      <td>OL16 2XR</td>\n",
              "      <td>T</td>\n",
              "      <td>N</td>\n",
              "      <td>L</td>\n",
              "      <td>143</td>\n",
              "      <td>NaN</td>\n",
              "      <td>BELFIELD ROAD</td>\n",
              "      <td>ROCHDALE</td>\n",
              "      <td>ROCHDALE</td>\n",
              "      <td>ROCHDALE</td>\n",
              "      <td>GREATER MANCHESTER</td>\n",
              "      <td>A</td>\n",
              "      <td>A</td>\n",
              "    </tr>\n",
              "    <tr>\n",
              "      <th>3</th>\n",
              "      <td>{44CB83B9-0EC3-48D4-9B8D-B34D13D3C09E}</td>\n",
              "      <td>84000</td>\n",
              "      <td>2001-01-31 00:00</td>\n",
              "      <td>SN1 4LJ</td>\n",
              "      <td>T</td>\n",
              "      <td>N</td>\n",
              "      <td>F</td>\n",
              "      <td>34</td>\n",
              "      <td>NaN</td>\n",
              "      <td>KINGSHILL ROAD</td>\n",
              "      <td>SWINDON</td>\n",
              "      <td>SWINDON</td>\n",
              "      <td>SWINDON</td>\n",
              "      <td>SWINDON</td>\n",
              "      <td>A</td>\n",
              "      <td>A</td>\n",
              "    </tr>\n",
              "    <tr>\n",
              "      <th>4</th>\n",
              "      <td>{74828706-CBFC-406D-B7B6-394B5863E22E}</td>\n",
              "      <td>110000</td>\n",
              "      <td>1998-02-27 00:00</td>\n",
              "      <td>OX3 8AJ</td>\n",
              "      <td>S</td>\n",
              "      <td>N</td>\n",
              "      <td>F</td>\n",
              "      <td>62</td>\n",
              "      <td>NaN</td>\n",
              "      <td>WHARTON ROAD</td>\n",
              "      <td>HEADINGTON</td>\n",
              "      <td>OXFORD</td>\n",
              "      <td>OXFORD</td>\n",
              "      <td>OXFORDSHIRE</td>\n",
              "      <td>A</td>\n",
              "      <td>A</td>\n",
              "    </tr>\n",
              "  </tbody>\n",
              "</table>\n",
              "</div>"
            ],
            "text/plain": [
              "            Transaction unique identifier  ...  Record Status - monthly file only\n",
              "0  {02A6460F-C1F3-4977-B7ED-2A77C79302AE}  ...                                  A\n",
              "1  {5EEB0C41-09F5-4BDF-A73E-A4E72E20BFC4}  ...                                  A\n",
              "2  {09975216-3588-418C-B6C5-A5704B0E77DE}  ...                                  A\n",
              "3  {44CB83B9-0EC3-48D4-9B8D-B34D13D3C09E}  ...                                  A\n",
              "4  {74828706-CBFC-406D-B7B6-394B5863E22E}  ...                                  A\n",
              "\n",
              "[5 rows x 16 columns]"
            ]
          },
          "metadata": {
            "tags": []
          },
          "execution_count": 7
        }
      ]
    },
    {
      "cell_type": "markdown",
      "metadata": {
        "id": "wFdX75h-XtKm",
        "colab_type": "text"
      },
      "source": [
        "#Statistics for the price of the property"
      ]
    },
    {
      "cell_type": "code",
      "metadata": {
        "id": "3WOluLZWpnR7",
        "colab_type": "code",
        "outputId": "0e8f279e-fc59-4854-f3b0-02a710fbab4f",
        "colab": {
          "base_uri": "https://localhost:8080/",
          "height": 168
        }
      },
      "source": [
        "houses.Price.describe().astype(int)\n"
      ],
      "execution_count": 8,
      "outputs": [
        {
          "output_type": "execute_result",
          "data": {
            "text/plain": [
              "count      100000\n",
              "mean       174386\n",
              "std        351463\n",
              "min           150\n",
              "25%         74000\n",
              "50%        129000\n",
              "75%        207000\n",
              "max      48465717\n",
              "Name: Price, dtype: int64"
            ]
          },
          "metadata": {
            "tags": []
          },
          "execution_count": 8
        }
      ]
    },
    {
      "cell_type": "markdown",
      "metadata": {
        "id": "_JABdED1aJKf",
        "colab_type": "text"
      },
      "source": [
        "# HISTOGRAMS :"
      ]
    },
    {
      "cell_type": "code",
      "metadata": {
        "id": "QmwHQFGCwpvp",
        "colab_type": "code",
        "outputId": "ffbd4893-a66e-4223-d6ba-fc8920c73691",
        "colab": {
          "base_uri": "https://localhost:8080/",
          "height": 286
        }
      },
      "source": [
        "houses['Price'].hist(bins = 250,range = [1,100000],grid = False)"
      ],
      "execution_count": 9,
      "outputs": [
        {
          "output_type": "execute_result",
          "data": {
            "text/plain": [
              "<matplotlib.axes._subplots.AxesSubplot at 0x7f5fa244ab00>"
            ]
          },
          "metadata": {
            "tags": []
          },
          "execution_count": 9
        },
        {
          "output_type": "display_data",
          "data": {
            "image/png": "[encoded data removed]",
            "text/plain": [
              "<Figure size 432x288 with 1 Axes>"
            ]
          },
          "metadata": {
            "tags": []
          }
        }
      ]
    },
    {
      "cell_type": "markdown",
      "metadata": {
        "id": "ckuIVIJqaILo",
        "colab_type": "text"
      },
      "source": [
        "## OBSERVATION :\n",
        "\n",
        "Due to a large no of rows , the bin value needs to be changed. It has to be n=modified according to no of data , i.e. , equal to square root(100000).\n",
        "\n",
        "On setting these values properly, the histograms can be made more informative."
      ]
    },
    {
      "cell_type": "code",
      "metadata": {
        "id": "77Pydx0HxWaS",
        "colab_type": "code",
        "outputId": "87ef629a-e1e1-4a2f-f503-79078d6a9c69",
        "colab": {
          "base_uri": "https://localhost:8080/",
          "height": 269
        }
      },
      "source": [
        "y, x, _ = plt.hist(houses['Price'],bins=range(1,100000,250))\n",
        "#yticks(np.arange(100,50000000, step=2000))\n",
        "plt.show()"
      ],
      "execution_count": 10,
      "outputs": [
        {
          "output_type": "display_data",
          "data": {
            "image/png": "[encoded data removed]",
            "text/plain": [
              "<Figure size 432x288 with 1 Axes>"
            ]
          },
          "metadata": {
            "tags": []
          }
        }
      ]
    },
    {
      "cell_type": "code",
      "metadata": {
        "id": "lXTZhlrdy0m7",
        "colab_type": "code",
        "outputId": "7fb8390d-5a4c-4643-a9a6-fc24a4981867",
        "colab": {
          "base_uri": "https://localhost:8080/",
          "height": 34
        }
      },
      "source": [
        "print(y.max())"
      ],
      "execution_count": 11,
      "outputs": [
        {
          "output_type": "stream",
          "text": [
            "1388.0\n"
          ],
          "name": "stdout"
        }
      ]
    },
    {
      "cell_type": "code",
      "metadata": {
        "id": "0nm2QX_Cz91I",
        "colab_type": "code",
        "colab": {}
      },
      "source": [
        "houses['Flag'] = houses.District.str.contains('LONDON')"
      ],
      "execution_count": 0,
      "outputs": []
    },
    {
      "cell_type": "code",
      "metadata": {
        "id": "1KqtoSX9czWu",
        "colab_type": "code",
        "outputId": "ed46bfff-2553-427d-dde4-c4e26d1f0ad8",
        "colab": {
          "base_uri": "https://localhost:8080/",
          "height": 534
        }
      },
      "source": [
        "houses.head()\n"
      ],
      "execution_count": 14,
      "outputs": [
        {
          "output_type": "execute_result",
          "data": {
            "text/html": [
              "<div>\n",
              "<style scoped>\n",
              "    .dataframe tbody tr th:only-of-type {\n",
              "        vertical-align: middle;\n",
              "    }\n",
              "\n",
              "    .dataframe tbody tr th {\n",
              "        vertical-align: top;\n",
              "    }\n",
              "\n",
              "    .dataframe thead th {\n",
              "        text-align: right;\n",
              "    }\n",
              "</style>\n",
              "<table border=\"1\" class=\"dataframe\">\n",
              "  <thead>\n",
              "    <tr style=\"text-align: right;\">\n",
              "      <th></th>\n",
              "      <th>Transaction unique identifier</th>\n",
              "      <th>Price</th>\n",
              "      <th>Date of Transfer</th>\n",
              "      <th>Postcode</th>\n",
              "      <th>Property Type</th>\n",
              "      <th>Old/New</th>\n",
              "      <th>Duration</th>\n",
              "      <th>PAON</th>\n",
              "      <th>SAON</th>\n",
              "      <th>Street</th>\n",
              "      <th>Locality</th>\n",
              "      <th>Town/City</th>\n",
              "      <th>District</th>\n",
              "      <th>Country</th>\n",
              "      <th>PPDCategory Type</th>\n",
              "      <th>Record Status - monthly file only</th>\n",
              "      <th>Flag</th>\n",
              "    </tr>\n",
              "  </thead>\n",
              "  <tbody>\n",
              "    <tr>\n",
              "      <th>0</th>\n",
              "      <td>{02A6460F-C1F3-4977-B7ED-2A77C79302AE}</td>\n",
              "      <td>52000</td>\n",
              "      <td>2001-12-07 00:00</td>\n",
              "      <td>DE6 1BL</td>\n",
              "      <td>S</td>\n",
              "      <td>N</td>\n",
              "      <td>F</td>\n",
              "      <td>1A</td>\n",
              "      <td>NaN</td>\n",
              "      <td>OLD HILL</td>\n",
              "      <td>ASHBOURNE</td>\n",
              "      <td>ASHBOURNE</td>\n",
              "      <td>DERBYSHIRE DALES</td>\n",
              "      <td>DERBYSHIRE</td>\n",
              "      <td>A</td>\n",
              "      <td>A</td>\n",
              "      <td>False</td>\n",
              "    </tr>\n",
              "    <tr>\n",
              "      <th>1</th>\n",
              "      <td>{5EEB0C41-09F5-4BDF-A73E-A4E72E20BFC4}</td>\n",
              "      <td>57000</td>\n",
              "      <td>2003-09-12 00:00</td>\n",
              "      <td>B36 0RA</td>\n",
              "      <td>T</td>\n",
              "      <td>N</td>\n",
              "      <td>F</td>\n",
              "      <td>44</td>\n",
              "      <td>NaN</td>\n",
              "      <td>GREENFINCH ROAD</td>\n",
              "      <td>BIRMINGHAM</td>\n",
              "      <td>BIRMINGHAM</td>\n",
              "      <td>SOLIHULL</td>\n",
              "      <td>WEST MIDLANDS</td>\n",
              "      <td>A</td>\n",
              "      <td>A</td>\n",
              "      <td>False</td>\n",
              "    </tr>\n",
              "    <tr>\n",
              "      <th>2</th>\n",
              "      <td>{09975216-3588-418C-B6C5-A5704B0E77DE}</td>\n",
              "      <td>69500</td>\n",
              "      <td>2005-12-21 00:00</td>\n",
              "      <td>OL16 2XR</td>\n",
              "      <td>T</td>\n",
              "      <td>N</td>\n",
              "      <td>L</td>\n",
              "      <td>143</td>\n",
              "      <td>NaN</td>\n",
              "      <td>BELFIELD ROAD</td>\n",
              "      <td>ROCHDALE</td>\n",
              "      <td>ROCHDALE</td>\n",
              "      <td>ROCHDALE</td>\n",
              "      <td>GREATER MANCHESTER</td>\n",
              "      <td>A</td>\n",
              "      <td>A</td>\n",
              "      <td>False</td>\n",
              "    </tr>\n",
              "    <tr>\n",
              "      <th>3</th>\n",
              "      <td>{44CB83B9-0EC3-48D4-9B8D-B34D13D3C09E}</td>\n",
              "      <td>84000</td>\n",
              "      <td>2001-01-31 00:00</td>\n",
              "      <td>SN1 4LJ</td>\n",
              "      <td>T</td>\n",
              "      <td>N</td>\n",
              "      <td>F</td>\n",
              "      <td>34</td>\n",
              "      <td>NaN</td>\n",
              "      <td>KINGSHILL ROAD</td>\n",
              "      <td>SWINDON</td>\n",
              "      <td>SWINDON</td>\n",
              "      <td>SWINDON</td>\n",
              "      <td>SWINDON</td>\n",
              "      <td>A</td>\n",
              "      <td>A</td>\n",
              "      <td>False</td>\n",
              "    </tr>\n",
              "    <tr>\n",
              "      <th>4</th>\n",
              "      <td>{74828706-CBFC-406D-B7B6-394B5863E22E}</td>\n",
              "      <td>110000</td>\n",
              "      <td>1998-02-27 00:00</td>\n",
              "      <td>OX3 8AJ</td>\n",
              "      <td>S</td>\n",
              "      <td>N</td>\n",
              "      <td>F</td>\n",
              "      <td>62</td>\n",
              "      <td>NaN</td>\n",
              "      <td>WHARTON ROAD</td>\n",
              "      <td>HEADINGTON</td>\n",
              "      <td>OXFORD</td>\n",
              "      <td>OXFORD</td>\n",
              "      <td>OXFORDSHIRE</td>\n",
              "      <td>A</td>\n",
              "      <td>A</td>\n",
              "      <td>False</td>\n",
              "    </tr>\n",
              "  </tbody>\n",
              "</table>\n",
              "</div>"
            ],
            "text/plain": [
              "            Transaction unique identifier  ...   Flag\n",
              "0  {02A6460F-C1F3-4977-B7ED-2A77C79302AE}  ...  False\n",
              "1  {5EEB0C41-09F5-4BDF-A73E-A4E72E20BFC4}  ...  False\n",
              "2  {09975216-3588-418C-B6C5-A5704B0E77DE}  ...  False\n",
              "3  {44CB83B9-0EC3-48D4-9B8D-B34D13D3C09E}  ...  False\n",
              "4  {74828706-CBFC-406D-B7B6-394B5863E22E}  ...  False\n",
              "\n",
              "[5 rows x 17 columns]"
            ]
          },
          "metadata": {
            "tags": []
          },
          "execution_count": 14
        }
      ]
    },
    {
      "cell_type": "markdown",
      "metadata": {
        "id": "tWuxwnNpoQFj",
        "colab_type": "text"
      },
      "source": [
        "# Notation :\n",
        "1 :  Inside London \n",
        "\n",
        "0 :  Outside London"
      ]
    },
    {
      "cell_type": "code",
      "metadata": {
        "id": "rj8-Sj8cgGL8",
        "colab_type": "code",
        "outputId": "48d5241e-32a5-41b0-8423-51d987539d0c",
        "colab": {
          "base_uri": "https://localhost:8080/",
          "height": 364
        }
      },
      "source": [
        "houses['Price'].hist(by = houses.Flag,bins = 200 , log = True)"
      ],
      "execution_count": 15,
      "outputs": [
        {
          "output_type": "execute_result",
          "data": {
            "text/plain": [
              "array([<matplotlib.axes._subplots.AxesSubplot object at 0x7f5fa2077d30>,\n",
              "       <matplotlib.axes._subplots.AxesSubplot object at 0x7f5fa1ec1400>],\n",
              "      dtype=object)"
            ]
          },
          "metadata": {
            "tags": []
          },
          "execution_count": 15
        },
        {
          "output_type": "display_data",
          "data": {
            "image/png": "[encoded data removed]",
            "text/plain": [
              "<Figure size 432x288 with 2 Axes>"
            ]
          },
          "metadata": {
            "tags": []
          }
        }
      ]
    },
    {
      "cell_type": "code",
      "metadata": {
        "id": "FgjqtDD-k3aC",
        "colab_type": "code",
        "outputId": "4bed24aa-9724-4494-ad7b-6f6274d2e3e0",
        "colab": {
          "base_uri": "https://localhost:8080/",
          "height": 136
        }
      },
      "source": [
        "houses.groupby('Flag').mean() # Average Prices for regions inside and outside London"
      ],
      "execution_count": 16,
      "outputs": [
        {
          "output_type": "execute_result",
          "data": {
            "text/html": [
              "<div>\n",
              "<style scoped>\n",
              "    .dataframe tbody tr th:only-of-type {\n",
              "        vertical-align: middle;\n",
              "    }\n",
              "\n",
              "    .dataframe tbody tr th {\n",
              "        vertical-align: top;\n",
              "    }\n",
              "\n",
              "    .dataframe thead th {\n",
              "        text-align: right;\n",
              "    }\n",
              "</style>\n",
              "<table border=\"1\" class=\"dataframe\">\n",
              "  <thead>\n",
              "    <tr style=\"text-align: right;\">\n",
              "      <th></th>\n",
              "      <th>Price</th>\n",
              "    </tr>\n",
              "    <tr>\n",
              "      <th>Flag</th>\n",
              "      <th></th>\n",
              "    </tr>\n",
              "  </thead>\n",
              "  <tbody>\n",
              "    <tr>\n",
              "      <th>False</th>\n",
              "      <td>174269.645937</td>\n",
              "    </tr>\n",
              "    <tr>\n",
              "      <th>True</th>\n",
              "      <td>578089.655172</td>\n",
              "    </tr>\n",
              "  </tbody>\n",
              "</table>\n",
              "</div>"
            ],
            "text/plain": [
              "               Price\n",
              "Flag                \n",
              "False  174269.645937\n",
              "True   578089.655172"
            ]
          },
          "metadata": {
            "tags": []
          },
          "execution_count": 16
        }
      ]
    },
    {
      "cell_type": "markdown",
      "metadata": {
        "id": "OYPKg7N-mxHx",
        "colab_type": "text"
      },
      "source": [
        "# Is Real State more Expensive in London ?\n",
        "\n",
        "***ANS:*** Since avg price in LONDON is greater than the regions outside it , it implies the statement is **TRUE**. "
      ]
    },
    {
      "cell_type": "markdown",
      "metadata": {
        "id": "EA2MI75EsBl8",
        "colab_type": "text"
      },
      "source": [
        "# Average Price per Year"
      ]
    },
    {
      "cell_type": "code",
      "metadata": {
        "id": "UMUckuIQnNZl",
        "colab_type": "code",
        "outputId": "10560938-ca2d-4c45-b077-dabb771d5e5d",
        "colab": {
          "base_uri": "https://localhost:8080/",
          "height": 314
        }
      },
      "source": [
        "houses['Date of Transfer'] = pd.to_datetime(houses['Date of Transfer'])\n",
        "houses.groupby(houses['Date of Transfer'].dt.year).Price.mean().plot(kind = 'bar')"
      ],
      "execution_count": 17,
      "outputs": [
        {
          "output_type": "execute_result",
          "data": {
            "text/plain": [
              "<matplotlib.axes._subplots.AxesSubplot at 0x7f5fa216ddd8>"
            ]
          },
          "metadata": {
            "tags": []
          },
          "execution_count": 17
        },
        {
          "output_type": "display_data",
          "data": {
            "image/png": "[encoded data removed]",
            "text/plain": [
              "<Figure size 432x288 with 1 Axes>"
            ]
          },
          "metadata": {
            "tags": []
          }
        }
      ]
    }
  ]
}